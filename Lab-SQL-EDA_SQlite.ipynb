{
 "cells": [
  {
   "cell_type": "markdown",
   "metadata": {},
   "source": [
    "<center>\n",
    "<img src=\"https://cf-courses-data.s3.us.cloud-object-storage.appdomain.cloud/IBMDeveloperSkillsNetwork-RP0321EN-SkillsNetwork/labs/module_1/images/SN_web_lightmode.png\" width=\"300\"> \n",
    "</center>\n",
    "\n",
    "# Assignment: Exploratory Data Analysis with SQL\n",
    "Estimated time needed: 60 minutes\n",
    "\n",
    "\n",
    "# Introduction\n",
    "Using this R notebook you will perform exploratory data analysis using SQL queries with the RSQLite R package. You will be graded on the accuracy of your results as well as the content of your SQL queries.\n"
   ]
  },
  {
   "cell_type": "markdown",
   "metadata": {},
   "source": [
    "### Establish your SQL Lite connection\n",
    "\n",
    "#### Install RSQLite package\n",
    "The RSQlite  package needs to be installed in your notebook. Let’s load the RSQLite package by clicking on the following cell and executing it (Shift+Enter):\n"
   ]
  },
  {
   "cell_type": "code",
   "execution_count": 1,
   "metadata": {
    "tags": []
   },
   "outputs": [],
   "source": [
    "install.packages(\"https://cran.r-project.org/src/contrib/Archive/RSQLite/RSQLite_0.10.0.tar.gz\", repos = NULL, type = \"source\", dependencies = TRUE) "
   ]
  },
  {
   "cell_type": "markdown",
   "metadata": {},
   "source": [
    "#### Restart Kernel\n",
    "\n",
    "After installing the RSQLite package, it is necessary to restart R Kernel. Click **Kernel** > **Restart Kernel** from the main menu. This will register the newly installed packages. Now proceed to load the RSQLite package. \n"
   ]
  },
  {
   "cell_type": "markdown",
   "metadata": {},
   "source": [
    "#### Load RSQLite\n",
    "Load the 'RSQLite' library, and use the 'dbConnect( )' function as you did in the previous labs to establish the connection to your SQLite database.  \n",
    "You are now ready to start running SQL queries using the RSQLite library as you did in Course 3.\n"
   ]
  },
  {
   "cell_type": "code",
   "execution_count": 2,
   "metadata": {
    "tags": []
   },
   "outputs": [
    {
     "name": "stderr",
     "output_type": "stream",
     "text": [
      "Loading required package: DBI\n"
     ]
    }
   ],
   "source": [
    "library(\"RSQLite\")"
   ]
  },
  {
   "cell_type": "code",
   "execution_count": 3,
   "metadata": {
    "tags": []
   },
   "outputs": [
    {
     "name": "stderr",
     "output_type": "stream",
     "text": [
      "Warning message in sqliteWriteTable(conn, name, value, ...):\n",
      "“table WORLD_CITIES exists in database: aborting dbWriteTable”"
     ]
    },
    {
     "data": {
      "text/html": [
       "FALSE"
      ],
      "text/latex": [
       "FALSE"
      ],
      "text/markdown": [
       "FALSE"
      ],
      "text/plain": [
       "[1] FALSE"
      ]
     },
     "metadata": {},
     "output_type": "display_data"
    },
    {
     "name": "stderr",
     "output_type": "stream",
     "text": [
      "Warning message in sqliteWriteTable(conn, name, value, ...):\n",
      "“table BIKE_SHARING_SYSTEMS exists in database: aborting dbWriteTable”"
     ]
    },
    {
     "data": {
      "text/html": [
       "FALSE"
      ],
      "text/latex": [
       "FALSE"
      ],
      "text/markdown": [
       "FALSE"
      ],
      "text/plain": [
       "[1] FALSE"
      ]
     },
     "metadata": {},
     "output_type": "display_data"
    },
    {
     "name": "stderr",
     "output_type": "stream",
     "text": [
      "Warning message in sqliteWriteTable(conn, name, value, ...):\n",
      "“table CITIES_WEATHER_FORECAST exists in database: aborting dbWriteTable”"
     ]
    },
    {
     "data": {
      "text/html": [
       "FALSE"
      ],
      "text/latex": [
       "FALSE"
      ],
      "text/markdown": [
       "FALSE"
      ],
      "text/plain": [
       "[1] FALSE"
      ]
     },
     "metadata": {},
     "output_type": "display_data"
    },
    {
     "name": "stderr",
     "output_type": "stream",
     "text": [
      "Warning message in sqliteWriteTable(conn, name, value, ...):\n",
      "“table SEOUL_BIKE_SHARING exists in database: aborting dbWriteTable”"
     ]
    },
    {
     "data": {
      "text/html": [
       "FALSE"
      ],
      "text/latex": [
       "FALSE"
      ],
      "text/markdown": [
       "FALSE"
      ],
      "text/plain": [
       "[1] FALSE"
      ]
     },
     "metadata": {},
     "output_type": "display_data"
    }
   ],
   "source": [
    "# provide your solution here to connect db\n",
    "con <- dbConnect(SQLite(), dbname=\"mydb.sqlite\")\n",
    "\n",
    "# read world_cities.csv and create a table\n",
    "df <- read.csv(\"world_cities.csv\")\n",
    "dbWriteTable(con, \"WORLD_CITIES\", df)\n",
    "\n",
    "df <- read.csv(\"bike_sharing_systems.csv\")\n",
    "dbWriteTable(con, \"BIKE_SHARING_SYSTEMS\", df)\n",
    "\n",
    "df <- read.csv(\"cities_weather_forecast.csv\")\n",
    "dbWriteTable(con, \"CITIES_WEATHER_FORECAST\", df)\n",
    "\n",
    "df <- read.csv(\"seoul_bike_sharing.csv\")\n",
    "dbWriteTable(con, \"SEOUL_BIKE_SHARING\", df)"
   ]
  },
  {
   "cell_type": "markdown",
   "metadata": {},
   "source": [
    "Download the following csv files:\n",
    "\n",
    "*   [WORLD_CITIES](https://cf-courses-data.s3.us.cloud-object-storage.appdomain.cloud/IBMDeveloperSkillsNetwork-RP0321EN-SkillsNetwork/labs/datasets/world_cities.csv)\n",
    "\n",
    "*   [BIKE_SHARING_SYSTEMS](https://cf-courses-data.s3.us.cloud-object-storage.appdomain.cloud/IBMDeveloperSkillsNetwork-RP0321EN-SkillsNetwork/labs/datasets/bike_sharing_systems.csv)\n",
    "\n",
    "*   [CITIES_WEATHER_FORECAST](https://cf-courses-data.s3.us.cloud-object-storage.appdomain.cloud/IBMDeveloperSkillsNetwork-RP0321EN-SkillsNetwork/labs/datasets/cities_weather_forecast.csv)\n",
    "\n",
    "*   [SEOUL_BIKE_SHARING](https://cf-courses-data.s3.us.cloud-object-storage.appdomain.cloud/IBMDeveloperSkillsNetwork-RP0321EN-SkillsNetwork/labs/datasets/seoul_bike_sharing.csv)\n",
    "\n",
    "and load the csv's  into 4 tables as mentioned below\n",
    "* SEOUL_BIKE_SHARING\n",
    "\n",
    "* CITIES_WEATHER_FORECAST\n",
    "\n",
    "* BIKE_SHARING_SYSTEMS \n",
    "\n",
    "*  WORLD_CITIES\n",
    "\n",
    "> Hint : Use the read_csv() function and dbWriteTable() functions\n"
   ]
  },
  {
   "cell_type": "markdown",
   "metadata": {},
   "source": [
    "\n",
    "## Task 1 - Record Count\n",
    "#### Determine how many records are in the seoul_bike_sharing dataset.\n"
   ]
  },
  {
   "cell_type": "markdown",
   "metadata": {},
   "source": [
    "### Solution 1\n"
   ]
  },
  {
   "cell_type": "code",
   "execution_count": 4,
   "metadata": {
    "tags": []
   },
   "outputs": [
    {
     "data": {
      "text/html": [
       "<table>\n",
       "<caption>A data.frame: 1 × 1</caption>\n",
       "<thead>\n",
       "\t<tr><th></th><th scope=col>COUNT(*)</th></tr>\n",
       "\t<tr><th></th><th scope=col>&lt;int&gt;</th></tr>\n",
       "</thead>\n",
       "<tbody>\n",
       "\t<tr><th scope=row>1</th><td>8465</td></tr>\n",
       "</tbody>\n",
       "</table>\n"
      ],
      "text/latex": [
       "A data.frame: 1 × 1\n",
       "\\begin{tabular}{r|l}\n",
       "  & COUNT(*)\\\\\n",
       "  & <int>\\\\\n",
       "\\hline\n",
       "\t1 & 8465\\\\\n",
       "\\end{tabular}\n"
      ],
      "text/markdown": [
       "\n",
       "A data.frame: 1 × 1\n",
       "\n",
       "| <!--/--> | COUNT(*) &lt;int&gt; |\n",
       "|---|---|\n",
       "| 1 | 8465 |\n",
       "\n"
      ],
      "text/plain": [
       "  COUNT(*)\n",
       "1 8465    "
      ]
     },
     "metadata": {},
     "output_type": "display_data"
    }
   ],
   "source": [
    "# provide your solution here\n",
    "sql <- \"SELECT COUNT(*) FROM SEOUL_BIKE_SHARING\"\n",
    "dbGetQuery(con, sql)"
   ]
  },
  {
   "cell_type": "markdown",
   "metadata": {},
   "source": [
    "## Task 2 - Operational Hours\n",
    "#### Determine how many hours had non-zero rented bike count.\n"
   ]
  },
  {
   "cell_type": "markdown",
   "metadata": {},
   "source": [
    "### Solution 2\n"
   ]
  },
  {
   "cell_type": "code",
   "execution_count": 5,
   "metadata": {
    "tags": []
   },
   "outputs": [
    {
     "data": {
      "text/html": [
       "<table>\n",
       "<caption>A data.frame: 24 × 1</caption>\n",
       "<thead>\n",
       "\t<tr><th></th><th scope=col>HOUR</th></tr>\n",
       "\t<tr><th></th><th scope=col>&lt;int&gt;</th></tr>\n",
       "</thead>\n",
       "<tbody>\n",
       "\t<tr><th scope=row>1</th><td> 0</td></tr>\n",
       "\t<tr><th scope=row>2</th><td> 1</td></tr>\n",
       "\t<tr><th scope=row>3</th><td> 2</td></tr>\n",
       "\t<tr><th scope=row>4</th><td> 3</td></tr>\n",
       "\t<tr><th scope=row>5</th><td> 4</td></tr>\n",
       "\t<tr><th scope=row>6</th><td> 5</td></tr>\n",
       "\t<tr><th scope=row>7</th><td> 6</td></tr>\n",
       "\t<tr><th scope=row>8</th><td> 7</td></tr>\n",
       "\t<tr><th scope=row>9</th><td> 8</td></tr>\n",
       "\t<tr><th scope=row>10</th><td> 9</td></tr>\n",
       "\t<tr><th scope=row>11</th><td>10</td></tr>\n",
       "\t<tr><th scope=row>12</th><td>11</td></tr>\n",
       "\t<tr><th scope=row>13</th><td>12</td></tr>\n",
       "\t<tr><th scope=row>14</th><td>13</td></tr>\n",
       "\t<tr><th scope=row>15</th><td>14</td></tr>\n",
       "\t<tr><th scope=row>16</th><td>15</td></tr>\n",
       "\t<tr><th scope=row>17</th><td>16</td></tr>\n",
       "\t<tr><th scope=row>18</th><td>17</td></tr>\n",
       "\t<tr><th scope=row>19</th><td>18</td></tr>\n",
       "\t<tr><th scope=row>20</th><td>19</td></tr>\n",
       "\t<tr><th scope=row>21</th><td>20</td></tr>\n",
       "\t<tr><th scope=row>22</th><td>21</td></tr>\n",
       "\t<tr><th scope=row>23</th><td>22</td></tr>\n",
       "\t<tr><th scope=row>24</th><td>23</td></tr>\n",
       "</tbody>\n",
       "</table>\n"
      ],
      "text/latex": [
       "A data.frame: 24 × 1\n",
       "\\begin{tabular}{r|l}\n",
       "  & HOUR\\\\\n",
       "  & <int>\\\\\n",
       "\\hline\n",
       "\t1 &  0\\\\\n",
       "\t2 &  1\\\\\n",
       "\t3 &  2\\\\\n",
       "\t4 &  3\\\\\n",
       "\t5 &  4\\\\\n",
       "\t6 &  5\\\\\n",
       "\t7 &  6\\\\\n",
       "\t8 &  7\\\\\n",
       "\t9 &  8\\\\\n",
       "\t10 &  9\\\\\n",
       "\t11 & 10\\\\\n",
       "\t12 & 11\\\\\n",
       "\t13 & 12\\\\\n",
       "\t14 & 13\\\\\n",
       "\t15 & 14\\\\\n",
       "\t16 & 15\\\\\n",
       "\t17 & 16\\\\\n",
       "\t18 & 17\\\\\n",
       "\t19 & 18\\\\\n",
       "\t20 & 19\\\\\n",
       "\t21 & 20\\\\\n",
       "\t22 & 21\\\\\n",
       "\t23 & 22\\\\\n",
       "\t24 & 23\\\\\n",
       "\\end{tabular}\n"
      ],
      "text/markdown": [
       "\n",
       "A data.frame: 24 × 1\n",
       "\n",
       "| <!--/--> | HOUR &lt;int&gt; |\n",
       "|---|---|\n",
       "| 1 |  0 |\n",
       "| 2 |  1 |\n",
       "| 3 |  2 |\n",
       "| 4 |  3 |\n",
       "| 5 |  4 |\n",
       "| 6 |  5 |\n",
       "| 7 |  6 |\n",
       "| 8 |  7 |\n",
       "| 9 |  8 |\n",
       "| 10 |  9 |\n",
       "| 11 | 10 |\n",
       "| 12 | 11 |\n",
       "| 13 | 12 |\n",
       "| 14 | 13 |\n",
       "| 15 | 14 |\n",
       "| 16 | 15 |\n",
       "| 17 | 16 |\n",
       "| 18 | 17 |\n",
       "| 19 | 18 |\n",
       "| 20 | 19 |\n",
       "| 21 | 20 |\n",
       "| 22 | 21 |\n",
       "| 23 | 22 |\n",
       "| 24 | 23 |\n",
       "\n"
      ],
      "text/plain": [
       "   HOUR\n",
       "1   0  \n",
       "2   1  \n",
       "3   2  \n",
       "4   3  \n",
       "5   4  \n",
       "6   5  \n",
       "7   6  \n",
       "8   7  \n",
       "9   8  \n",
       "10  9  \n",
       "11 10  \n",
       "12 11  \n",
       "13 12  \n",
       "14 13  \n",
       "15 14  \n",
       "16 15  \n",
       "17 16  \n",
       "18 17  \n",
       "19 18  \n",
       "20 19  \n",
       "21 20  \n",
       "22 21  \n",
       "23 22  \n",
       "24 23  "
      ]
     },
     "metadata": {},
     "output_type": "display_data"
    }
   ],
   "source": [
    "# provide your solution here\n",
    "sql <- \"SELECT DISTINCT HOUR FROM SEOUL_BIKE_SHARING WHERE RENTED_BIKE_COUNT > 0\"\n",
    "dbGetQuery(con, sql)"
   ]
  },
  {
   "cell_type": "markdown",
   "metadata": {},
   "source": [
    "## Task 3 - Weather Outlook\n",
    "#### Query the the weather forecast for Seoul over the next 3 hours.\n",
    "Recall that the records in the CITIES_WEATHER_FORECAST dataset are 3 hours apart, so we just need the first record from the query.\n"
   ]
  },
  {
   "cell_type": "markdown",
   "metadata": {},
   "source": [
    "### Solution 3\n"
   ]
  },
  {
   "cell_type": "code",
   "execution_count": 6,
   "metadata": {
    "tags": []
   },
   "outputs": [
    {
     "data": {
      "text/html": [
       "<table>\n",
       "<caption>A data.frame: 40 × 13</caption>\n",
       "<thead>\n",
       "\t<tr><th></th><th scope=col>row_names</th><th scope=col>CITY</th><th scope=col>WEATHER</th><th scope=col>VISIBILITY</th><th scope=col>TEMP</th><th scope=col>TEMP_MIN</th><th scope=col>TEMP_MAX</th><th scope=col>PRESSURE</th><th scope=col>HUMIDITY</th><th scope=col>WIND_SPEED</th><th scope=col>WIND_DEG</th><th scope=col>SEASON</th><th scope=col>FORECAST_DATETIME</th></tr>\n",
       "\t<tr><th></th><th scope=col>&lt;chr&gt;</th><th scope=col>&lt;chr&gt;</th><th scope=col>&lt;chr&gt;</th><th scope=col>&lt;int&gt;</th><th scope=col>&lt;dbl&gt;</th><th scope=col>&lt;dbl&gt;</th><th scope=col>&lt;dbl&gt;</th><th scope=col>&lt;int&gt;</th><th scope=col>&lt;int&gt;</th><th scope=col>&lt;dbl&gt;</th><th scope=col>&lt;int&gt;</th><th scope=col>&lt;chr&gt;</th><th scope=col>&lt;chr&gt;</th></tr>\n",
       "</thead>\n",
       "<tbody>\n",
       "\t<tr><th scope=row>1</th><td>1 </td><td>Seoul</td><td>Clear </td><td>10000</td><td>12.32</td><td>10.91</td><td>12.32</td><td>1015</td><td>50</td><td>2.18</td><td>248</td><td>Spring</td><td>2021-04-16 12:00:00</td></tr>\n",
       "\t<tr><th scope=row>2</th><td>2 </td><td>Seoul</td><td>Clear </td><td>10000</td><td>11.48</td><td> 9.81</td><td>11.48</td><td>1016</td><td>48</td><td>1.25</td><td>142</td><td>Spring</td><td>2021-04-16 15:00:00</td></tr>\n",
       "\t<tr><th scope=row>3</th><td>3 </td><td>Seoul</td><td>Clouds</td><td>10000</td><td> 9.99</td><td> 8.82</td><td> 9.99</td><td>1015</td><td>46</td><td>0.94</td><td>130</td><td>Spring</td><td>2021-04-16 18:00:00</td></tr>\n",
       "\t<tr><th scope=row>4</th><td>4 </td><td>Seoul</td><td>Clouds</td><td>10000</td><td> 7.87</td><td> 7.87</td><td> 7.87</td><td>1014</td><td>46</td><td>0.83</td><td> 31</td><td>Spring</td><td>2021-04-16 21:00:00</td></tr>\n",
       "\t<tr><th scope=row>5</th><td>5 </td><td>Seoul</td><td>Clouds</td><td>10000</td><td>10.09</td><td>10.09</td><td>10.09</td><td>1014</td><td>37</td><td>1.96</td><td>309</td><td>Spring</td><td>2021-04-17 00:00:00</td></tr>\n",
       "\t<tr><th scope=row>6</th><td>6 </td><td>Seoul</td><td>Rain  </td><td>10000</td><td> 9.74</td><td> 9.74</td><td> 9.74</td><td>1014</td><td>48</td><td>3.24</td><td>267</td><td>Spring</td><td>2021-04-17 03:00:00</td></tr>\n",
       "\t<tr><th scope=row>7</th><td>7 </td><td>Seoul</td><td>Clouds</td><td>10000</td><td>11.39</td><td>11.39</td><td>11.39</td><td>1012</td><td>44</td><td>5.65</td><td>275</td><td>Spring</td><td>2021-04-17 06:00:00</td></tr>\n",
       "\t<tr><th scope=row>8</th><td>8 </td><td>Seoul</td><td>Rain  </td><td>10000</td><td> 9.75</td><td> 9.75</td><td> 9.75</td><td>1012</td><td>57</td><td>5.63</td><td>267</td><td>Spring</td><td>2021-04-17 09:00:00</td></tr>\n",
       "\t<tr><th scope=row>9</th><td>9 </td><td>Seoul</td><td>Rain  </td><td>10000</td><td> 9.11</td><td> 9.11</td><td> 9.11</td><td>1013</td><td>51</td><td>4.91</td><td>280</td><td>Spring</td><td>2021-04-17 12:00:00</td></tr>\n",
       "\t<tr><th scope=row>10</th><td>10</td><td>Seoul</td><td>Clear </td><td>10000</td><td> 8.33</td><td> 8.33</td><td> 8.33</td><td>1013</td><td>62</td><td>4.49</td><td>284</td><td>Spring</td><td>2021-04-17 15:00:00</td></tr>\n",
       "\t<tr><th scope=row>11</th><td>11</td><td>Seoul</td><td>Clear </td><td>10000</td><td> 7.57</td><td> 7.57</td><td> 7.57</td><td>1013</td><td>69</td><td>4.72</td><td>290</td><td>Spring</td><td>2021-04-17 18:00:00</td></tr>\n",
       "\t<tr><th scope=row>12</th><td>12</td><td>Seoul</td><td>Clear </td><td>10000</td><td> 7.13</td><td> 7.13</td><td> 7.13</td><td>1014</td><td>65</td><td>5.06</td><td>301</td><td>Spring</td><td>2021-04-17 21:00:00</td></tr>\n",
       "\t<tr><th scope=row>13</th><td>13</td><td>Seoul</td><td>Clear </td><td>10000</td><td>10.49</td><td>10.49</td><td>10.49</td><td>1015</td><td>45</td><td>6.89</td><td>318</td><td>Spring</td><td>2021-04-18 00:00:00</td></tr>\n",
       "\t<tr><th scope=row>14</th><td>14</td><td>Seoul</td><td>Clear </td><td>10000</td><td>15.05</td><td>15.05</td><td>15.05</td><td>1014</td><td>30</td><td>5.92</td><td>309</td><td>Spring</td><td>2021-04-18 03:00:00</td></tr>\n",
       "\t<tr><th scope=row>15</th><td>15</td><td>Seoul</td><td>Clear </td><td>10000</td><td>17.37</td><td>17.37</td><td>17.37</td><td>1012</td><td>24</td><td>5.84</td><td>295</td><td>Spring</td><td>2021-04-18 06:00:00</td></tr>\n",
       "\t<tr><th scope=row>16</th><td>16</td><td>Seoul</td><td>Clear </td><td>10000</td><td>16.14</td><td>16.14</td><td>16.14</td><td>1013</td><td>30</td><td>5.61</td><td>291</td><td>Spring</td><td>2021-04-18 09:00:00</td></tr>\n",
       "\t<tr><th scope=row>17</th><td>17</td><td>Seoul</td><td>Clear </td><td>10000</td><td>13.27</td><td>13.27</td><td>13.27</td><td>1015</td><td>42</td><td>3.78</td><td>286</td><td>Spring</td><td>2021-04-18 12:00:00</td></tr>\n",
       "\t<tr><th scope=row>18</th><td>18</td><td>Seoul</td><td>Clear </td><td>10000</td><td>11.56</td><td>11.56</td><td>11.56</td><td>1016</td><td>46</td><td>1.76</td><td>253</td><td>Spring</td><td>2021-04-18 15:00:00</td></tr>\n",
       "\t<tr><th scope=row>19</th><td>19</td><td>Seoul</td><td>Clear </td><td>10000</td><td>10.01</td><td>10.01</td><td>10.01</td><td>1016</td><td>52</td><td>1.90</td><td>210</td><td>Spring</td><td>2021-04-18 18:00:00</td></tr>\n",
       "\t<tr><th scope=row>20</th><td>20</td><td>Seoul</td><td>Clear </td><td>10000</td><td> 8.74</td><td> 8.74</td><td> 8.74</td><td>1016</td><td>62</td><td>1.78</td><td>195</td><td>Spring</td><td>2021-04-18 21:00:00</td></tr>\n",
       "\t<tr><th scope=row>21</th><td>21</td><td>Seoul</td><td>Clear </td><td>10000</td><td>12.37</td><td>12.37</td><td>12.37</td><td>1017</td><td>40</td><td>2.20</td><td>215</td><td>Spring</td><td>2021-04-19 00:00:00</td></tr>\n",
       "\t<tr><th scope=row>22</th><td>22</td><td>Seoul</td><td>Clear </td><td>10000</td><td>17.40</td><td>17.40</td><td>17.40</td><td>1016</td><td>23</td><td>3.91</td><td>248</td><td>Spring</td><td>2021-04-19 03:00:00</td></tr>\n",
       "\t<tr><th scope=row>23</th><td>23</td><td>Seoul</td><td>Clouds</td><td>10000</td><td>18.72</td><td>18.72</td><td>18.72</td><td>1014</td><td>20</td><td>4.71</td><td>255</td><td>Spring</td><td>2021-04-19 06:00:00</td></tr>\n",
       "\t<tr><th scope=row>24</th><td>24</td><td>Seoul</td><td>Clouds</td><td>10000</td><td>16.95</td><td>16.95</td><td>16.95</td><td>1014</td><td>28</td><td>3.75</td><td>250</td><td>Spring</td><td>2021-04-19 09:00:00</td></tr>\n",
       "\t<tr><th scope=row>25</th><td>25</td><td>Seoul</td><td>Clouds</td><td>10000</td><td>13.74</td><td>13.74</td><td>13.74</td><td>1016</td><td>48</td><td>2.15</td><td>235</td><td>Spring</td><td>2021-04-19 12:00:00</td></tr>\n",
       "\t<tr><th scope=row>26</th><td>26</td><td>Seoul</td><td>Clear </td><td>10000</td><td>12.35</td><td>12.35</td><td>12.35</td><td>1018</td><td>59</td><td>1.62</td><td>206</td><td>Spring</td><td>2021-04-19 15:00:00</td></tr>\n",
       "\t<tr><th scope=row>27</th><td>27</td><td>Seoul</td><td>Clear </td><td>10000</td><td>11.26</td><td>11.26</td><td>11.26</td><td>1018</td><td>63</td><td>1.43</td><td>196</td><td>Spring</td><td>2021-04-19 18:00:00</td></tr>\n",
       "\t<tr><th scope=row>28</th><td>28</td><td>Seoul</td><td>Clear </td><td>10000</td><td>10.40</td><td>10.40</td><td>10.40</td><td>1019</td><td>64</td><td>1.27</td><td>168</td><td>Spring</td><td>2021-04-19 21:00:00</td></tr>\n",
       "\t<tr><th scope=row>29</th><td>29</td><td>Seoul</td><td>Clear </td><td>10000</td><td>14.50</td><td>14.50</td><td>14.50</td><td>1020</td><td>44</td><td>1.52</td><td>187</td><td>Spring</td><td>2021-04-20 00:00:00</td></tr>\n",
       "\t<tr><th scope=row>30</th><td>30</td><td>Seoul</td><td>Clouds</td><td>10000</td><td>19.78</td><td>19.78</td><td>19.78</td><td>1020</td><td>28</td><td>1.90</td><td>248</td><td>Spring</td><td>2021-04-20 03:00:00</td></tr>\n",
       "\t<tr><th scope=row>31</th><td>31</td><td>Seoul</td><td>Clouds</td><td>10000</td><td>21.94</td><td>21.94</td><td>21.94</td><td>1019</td><td>26</td><td>3.72</td><td>254</td><td>Spring</td><td>2021-04-20 06:00:00</td></tr>\n",
       "\t<tr><th scope=row>32</th><td>32</td><td>Seoul</td><td>Clear </td><td>10000</td><td>19.74</td><td>19.74</td><td>19.74</td><td>1019</td><td>33</td><td>3.26</td><td>255</td><td>Spring</td><td>2021-04-20 09:00:00</td></tr>\n",
       "\t<tr><th scope=row>33</th><td>33</td><td>Seoul</td><td>Clear </td><td>10000</td><td>17.15</td><td>17.15</td><td>17.15</td><td>1021</td><td>41</td><td>1.29</td><td>224</td><td>Spring</td><td>2021-04-20 12:00:00</td></tr>\n",
       "\t<tr><th scope=row>34</th><td>34</td><td>Seoul</td><td>Clear </td><td>10000</td><td>15.32</td><td>15.32</td><td>15.32</td><td>1022</td><td>48</td><td>1.04</td><td>231</td><td>Spring</td><td>2021-04-20 15:00:00</td></tr>\n",
       "\t<tr><th scope=row>35</th><td>35</td><td>Seoul</td><td>Clear </td><td>10000</td><td>13.88</td><td>13.88</td><td>13.88</td><td>1023</td><td>54</td><td>0.53</td><td>262</td><td>Spring</td><td>2021-04-20 18:00:00</td></tr>\n",
       "\t<tr><th scope=row>36</th><td>36</td><td>Seoul</td><td>Clear </td><td>10000</td><td>13.11</td><td>13.11</td><td>13.11</td><td>1023</td><td>55</td><td>0.84</td><td> 83</td><td>Spring</td><td>2021-04-20 21:00:00</td></tr>\n",
       "\t<tr><th scope=row>37</th><td>37</td><td>Seoul</td><td>Clouds</td><td>10000</td><td>17.53</td><td>17.53</td><td>17.53</td><td>1024</td><td>38</td><td>0.55</td><td>134</td><td>Spring</td><td>2021-04-21 00:00:00</td></tr>\n",
       "\t<tr><th scope=row>38</th><td>38</td><td>Seoul</td><td>Clouds</td><td>10000</td><td>23.30</td><td>23.30</td><td>23.30</td><td>1023</td><td>24</td><td>0.73</td><td>181</td><td>Spring</td><td>2021-04-21 03:00:00</td></tr>\n",
       "\t<tr><th scope=row>39</th><td>39</td><td>Seoul</td><td>Clouds</td><td>10000</td><td>26.13</td><td>26.13</td><td>26.13</td><td>1021</td><td>17</td><td>0.70</td><td>218</td><td>Spring</td><td>2021-04-21 06:00:00</td></tr>\n",
       "\t<tr><th scope=row>40</th><td>40</td><td>Seoul</td><td>Clouds</td><td>10000</td><td>25.10</td><td>25.10</td><td>25.10</td><td>1020</td><td>17</td><td>1.54</td><td>262</td><td>Spring</td><td>2021-04-21 09:00:00</td></tr>\n",
       "</tbody>\n",
       "</table>\n"
      ],
      "text/latex": [
       "A data.frame: 40 × 13\n",
       "\\begin{tabular}{r|lllllllllllll}\n",
       "  & row\\_names & CITY & WEATHER & VISIBILITY & TEMP & TEMP\\_MIN & TEMP\\_MAX & PRESSURE & HUMIDITY & WIND\\_SPEED & WIND\\_DEG & SEASON & FORECAST\\_DATETIME\\\\\n",
       "  & <chr> & <chr> & <chr> & <int> & <dbl> & <dbl> & <dbl> & <int> & <int> & <dbl> & <int> & <chr> & <chr>\\\\\n",
       "\\hline\n",
       "\t1 & 1  & Seoul & Clear  & 10000 & 12.32 & 10.91 & 12.32 & 1015 & 50 & 2.18 & 248 & Spring & 2021-04-16 12:00:00\\\\\n",
       "\t2 & 2  & Seoul & Clear  & 10000 & 11.48 &  9.81 & 11.48 & 1016 & 48 & 1.25 & 142 & Spring & 2021-04-16 15:00:00\\\\\n",
       "\t3 & 3  & Seoul & Clouds & 10000 &  9.99 &  8.82 &  9.99 & 1015 & 46 & 0.94 & 130 & Spring & 2021-04-16 18:00:00\\\\\n",
       "\t4 & 4  & Seoul & Clouds & 10000 &  7.87 &  7.87 &  7.87 & 1014 & 46 & 0.83 &  31 & Spring & 2021-04-16 21:00:00\\\\\n",
       "\t5 & 5  & Seoul & Clouds & 10000 & 10.09 & 10.09 & 10.09 & 1014 & 37 & 1.96 & 309 & Spring & 2021-04-17 00:00:00\\\\\n",
       "\t6 & 6  & Seoul & Rain   & 10000 &  9.74 &  9.74 &  9.74 & 1014 & 48 & 3.24 & 267 & Spring & 2021-04-17 03:00:00\\\\\n",
       "\t7 & 7  & Seoul & Clouds & 10000 & 11.39 & 11.39 & 11.39 & 1012 & 44 & 5.65 & 275 & Spring & 2021-04-17 06:00:00\\\\\n",
       "\t8 & 8  & Seoul & Rain   & 10000 &  9.75 &  9.75 &  9.75 & 1012 & 57 & 5.63 & 267 & Spring & 2021-04-17 09:00:00\\\\\n",
       "\t9 & 9  & Seoul & Rain   & 10000 &  9.11 &  9.11 &  9.11 & 1013 & 51 & 4.91 & 280 & Spring & 2021-04-17 12:00:00\\\\\n",
       "\t10 & 10 & Seoul & Clear  & 10000 &  8.33 &  8.33 &  8.33 & 1013 & 62 & 4.49 & 284 & Spring & 2021-04-17 15:00:00\\\\\n",
       "\t11 & 11 & Seoul & Clear  & 10000 &  7.57 &  7.57 &  7.57 & 1013 & 69 & 4.72 & 290 & Spring & 2021-04-17 18:00:00\\\\\n",
       "\t12 & 12 & Seoul & Clear  & 10000 &  7.13 &  7.13 &  7.13 & 1014 & 65 & 5.06 & 301 & Spring & 2021-04-17 21:00:00\\\\\n",
       "\t13 & 13 & Seoul & Clear  & 10000 & 10.49 & 10.49 & 10.49 & 1015 & 45 & 6.89 & 318 & Spring & 2021-04-18 00:00:00\\\\\n",
       "\t14 & 14 & Seoul & Clear  & 10000 & 15.05 & 15.05 & 15.05 & 1014 & 30 & 5.92 & 309 & Spring & 2021-04-18 03:00:00\\\\\n",
       "\t15 & 15 & Seoul & Clear  & 10000 & 17.37 & 17.37 & 17.37 & 1012 & 24 & 5.84 & 295 & Spring & 2021-04-18 06:00:00\\\\\n",
       "\t16 & 16 & Seoul & Clear  & 10000 & 16.14 & 16.14 & 16.14 & 1013 & 30 & 5.61 & 291 & Spring & 2021-04-18 09:00:00\\\\\n",
       "\t17 & 17 & Seoul & Clear  & 10000 & 13.27 & 13.27 & 13.27 & 1015 & 42 & 3.78 & 286 & Spring & 2021-04-18 12:00:00\\\\\n",
       "\t18 & 18 & Seoul & Clear  & 10000 & 11.56 & 11.56 & 11.56 & 1016 & 46 & 1.76 & 253 & Spring & 2021-04-18 15:00:00\\\\\n",
       "\t19 & 19 & Seoul & Clear  & 10000 & 10.01 & 10.01 & 10.01 & 1016 & 52 & 1.90 & 210 & Spring & 2021-04-18 18:00:00\\\\\n",
       "\t20 & 20 & Seoul & Clear  & 10000 &  8.74 &  8.74 &  8.74 & 1016 & 62 & 1.78 & 195 & Spring & 2021-04-18 21:00:00\\\\\n",
       "\t21 & 21 & Seoul & Clear  & 10000 & 12.37 & 12.37 & 12.37 & 1017 & 40 & 2.20 & 215 & Spring & 2021-04-19 00:00:00\\\\\n",
       "\t22 & 22 & Seoul & Clear  & 10000 & 17.40 & 17.40 & 17.40 & 1016 & 23 & 3.91 & 248 & Spring & 2021-04-19 03:00:00\\\\\n",
       "\t23 & 23 & Seoul & Clouds & 10000 & 18.72 & 18.72 & 18.72 & 1014 & 20 & 4.71 & 255 & Spring & 2021-04-19 06:00:00\\\\\n",
       "\t24 & 24 & Seoul & Clouds & 10000 & 16.95 & 16.95 & 16.95 & 1014 & 28 & 3.75 & 250 & Spring & 2021-04-19 09:00:00\\\\\n",
       "\t25 & 25 & Seoul & Clouds & 10000 & 13.74 & 13.74 & 13.74 & 1016 & 48 & 2.15 & 235 & Spring & 2021-04-19 12:00:00\\\\\n",
       "\t26 & 26 & Seoul & Clear  & 10000 & 12.35 & 12.35 & 12.35 & 1018 & 59 & 1.62 & 206 & Spring & 2021-04-19 15:00:00\\\\\n",
       "\t27 & 27 & Seoul & Clear  & 10000 & 11.26 & 11.26 & 11.26 & 1018 & 63 & 1.43 & 196 & Spring & 2021-04-19 18:00:00\\\\\n",
       "\t28 & 28 & Seoul & Clear  & 10000 & 10.40 & 10.40 & 10.40 & 1019 & 64 & 1.27 & 168 & Spring & 2021-04-19 21:00:00\\\\\n",
       "\t29 & 29 & Seoul & Clear  & 10000 & 14.50 & 14.50 & 14.50 & 1020 & 44 & 1.52 & 187 & Spring & 2021-04-20 00:00:00\\\\\n",
       "\t30 & 30 & Seoul & Clouds & 10000 & 19.78 & 19.78 & 19.78 & 1020 & 28 & 1.90 & 248 & Spring & 2021-04-20 03:00:00\\\\\n",
       "\t31 & 31 & Seoul & Clouds & 10000 & 21.94 & 21.94 & 21.94 & 1019 & 26 & 3.72 & 254 & Spring & 2021-04-20 06:00:00\\\\\n",
       "\t32 & 32 & Seoul & Clear  & 10000 & 19.74 & 19.74 & 19.74 & 1019 & 33 & 3.26 & 255 & Spring & 2021-04-20 09:00:00\\\\\n",
       "\t33 & 33 & Seoul & Clear  & 10000 & 17.15 & 17.15 & 17.15 & 1021 & 41 & 1.29 & 224 & Spring & 2021-04-20 12:00:00\\\\\n",
       "\t34 & 34 & Seoul & Clear  & 10000 & 15.32 & 15.32 & 15.32 & 1022 & 48 & 1.04 & 231 & Spring & 2021-04-20 15:00:00\\\\\n",
       "\t35 & 35 & Seoul & Clear  & 10000 & 13.88 & 13.88 & 13.88 & 1023 & 54 & 0.53 & 262 & Spring & 2021-04-20 18:00:00\\\\\n",
       "\t36 & 36 & Seoul & Clear  & 10000 & 13.11 & 13.11 & 13.11 & 1023 & 55 & 0.84 &  83 & Spring & 2021-04-20 21:00:00\\\\\n",
       "\t37 & 37 & Seoul & Clouds & 10000 & 17.53 & 17.53 & 17.53 & 1024 & 38 & 0.55 & 134 & Spring & 2021-04-21 00:00:00\\\\\n",
       "\t38 & 38 & Seoul & Clouds & 10000 & 23.30 & 23.30 & 23.30 & 1023 & 24 & 0.73 & 181 & Spring & 2021-04-21 03:00:00\\\\\n",
       "\t39 & 39 & Seoul & Clouds & 10000 & 26.13 & 26.13 & 26.13 & 1021 & 17 & 0.70 & 218 & Spring & 2021-04-21 06:00:00\\\\\n",
       "\t40 & 40 & Seoul & Clouds & 10000 & 25.10 & 25.10 & 25.10 & 1020 & 17 & 1.54 & 262 & Spring & 2021-04-21 09:00:00\\\\\n",
       "\\end{tabular}\n"
      ],
      "text/markdown": [
       "\n",
       "A data.frame: 40 × 13\n",
       "\n",
       "| <!--/--> | row_names &lt;chr&gt; | CITY &lt;chr&gt; | WEATHER &lt;chr&gt; | VISIBILITY &lt;int&gt; | TEMP &lt;dbl&gt; | TEMP_MIN &lt;dbl&gt; | TEMP_MAX &lt;dbl&gt; | PRESSURE &lt;int&gt; | HUMIDITY &lt;int&gt; | WIND_SPEED &lt;dbl&gt; | WIND_DEG &lt;int&gt; | SEASON &lt;chr&gt; | FORECAST_DATETIME &lt;chr&gt; |\n",
       "|---|---|---|---|---|---|---|---|---|---|---|---|---|---|\n",
       "| 1 | 1  | Seoul | Clear  | 10000 | 12.32 | 10.91 | 12.32 | 1015 | 50 | 2.18 | 248 | Spring | 2021-04-16 12:00:00 |\n",
       "| 2 | 2  | Seoul | Clear  | 10000 | 11.48 |  9.81 | 11.48 | 1016 | 48 | 1.25 | 142 | Spring | 2021-04-16 15:00:00 |\n",
       "| 3 | 3  | Seoul | Clouds | 10000 |  9.99 |  8.82 |  9.99 | 1015 | 46 | 0.94 | 130 | Spring | 2021-04-16 18:00:00 |\n",
       "| 4 | 4  | Seoul | Clouds | 10000 |  7.87 |  7.87 |  7.87 | 1014 | 46 | 0.83 |  31 | Spring | 2021-04-16 21:00:00 |\n",
       "| 5 | 5  | Seoul | Clouds | 10000 | 10.09 | 10.09 | 10.09 | 1014 | 37 | 1.96 | 309 | Spring | 2021-04-17 00:00:00 |\n",
       "| 6 | 6  | Seoul | Rain   | 10000 |  9.74 |  9.74 |  9.74 | 1014 | 48 | 3.24 | 267 | Spring | 2021-04-17 03:00:00 |\n",
       "| 7 | 7  | Seoul | Clouds | 10000 | 11.39 | 11.39 | 11.39 | 1012 | 44 | 5.65 | 275 | Spring | 2021-04-17 06:00:00 |\n",
       "| 8 | 8  | Seoul | Rain   | 10000 |  9.75 |  9.75 |  9.75 | 1012 | 57 | 5.63 | 267 | Spring | 2021-04-17 09:00:00 |\n",
       "| 9 | 9  | Seoul | Rain   | 10000 |  9.11 |  9.11 |  9.11 | 1013 | 51 | 4.91 | 280 | Spring | 2021-04-17 12:00:00 |\n",
       "| 10 | 10 | Seoul | Clear  | 10000 |  8.33 |  8.33 |  8.33 | 1013 | 62 | 4.49 | 284 | Spring | 2021-04-17 15:00:00 |\n",
       "| 11 | 11 | Seoul | Clear  | 10000 |  7.57 |  7.57 |  7.57 | 1013 | 69 | 4.72 | 290 | Spring | 2021-04-17 18:00:00 |\n",
       "| 12 | 12 | Seoul | Clear  | 10000 |  7.13 |  7.13 |  7.13 | 1014 | 65 | 5.06 | 301 | Spring | 2021-04-17 21:00:00 |\n",
       "| 13 | 13 | Seoul | Clear  | 10000 | 10.49 | 10.49 | 10.49 | 1015 | 45 | 6.89 | 318 | Spring | 2021-04-18 00:00:00 |\n",
       "| 14 | 14 | Seoul | Clear  | 10000 | 15.05 | 15.05 | 15.05 | 1014 | 30 | 5.92 | 309 | Spring | 2021-04-18 03:00:00 |\n",
       "| 15 | 15 | Seoul | Clear  | 10000 | 17.37 | 17.37 | 17.37 | 1012 | 24 | 5.84 | 295 | Spring | 2021-04-18 06:00:00 |\n",
       "| 16 | 16 | Seoul | Clear  | 10000 | 16.14 | 16.14 | 16.14 | 1013 | 30 | 5.61 | 291 | Spring | 2021-04-18 09:00:00 |\n",
       "| 17 | 17 | Seoul | Clear  | 10000 | 13.27 | 13.27 | 13.27 | 1015 | 42 | 3.78 | 286 | Spring | 2021-04-18 12:00:00 |\n",
       "| 18 | 18 | Seoul | Clear  | 10000 | 11.56 | 11.56 | 11.56 | 1016 | 46 | 1.76 | 253 | Spring | 2021-04-18 15:00:00 |\n",
       "| 19 | 19 | Seoul | Clear  | 10000 | 10.01 | 10.01 | 10.01 | 1016 | 52 | 1.90 | 210 | Spring | 2021-04-18 18:00:00 |\n",
       "| 20 | 20 | Seoul | Clear  | 10000 |  8.74 |  8.74 |  8.74 | 1016 | 62 | 1.78 | 195 | Spring | 2021-04-18 21:00:00 |\n",
       "| 21 | 21 | Seoul | Clear  | 10000 | 12.37 | 12.37 | 12.37 | 1017 | 40 | 2.20 | 215 | Spring | 2021-04-19 00:00:00 |\n",
       "| 22 | 22 | Seoul | Clear  | 10000 | 17.40 | 17.40 | 17.40 | 1016 | 23 | 3.91 | 248 | Spring | 2021-04-19 03:00:00 |\n",
       "| 23 | 23 | Seoul | Clouds | 10000 | 18.72 | 18.72 | 18.72 | 1014 | 20 | 4.71 | 255 | Spring | 2021-04-19 06:00:00 |\n",
       "| 24 | 24 | Seoul | Clouds | 10000 | 16.95 | 16.95 | 16.95 | 1014 | 28 | 3.75 | 250 | Spring | 2021-04-19 09:00:00 |\n",
       "| 25 | 25 | Seoul | Clouds | 10000 | 13.74 | 13.74 | 13.74 | 1016 | 48 | 2.15 | 235 | Spring | 2021-04-19 12:00:00 |\n",
       "| 26 | 26 | Seoul | Clear  | 10000 | 12.35 | 12.35 | 12.35 | 1018 | 59 | 1.62 | 206 | Spring | 2021-04-19 15:00:00 |\n",
       "| 27 | 27 | Seoul | Clear  | 10000 | 11.26 | 11.26 | 11.26 | 1018 | 63 | 1.43 | 196 | Spring | 2021-04-19 18:00:00 |\n",
       "| 28 | 28 | Seoul | Clear  | 10000 | 10.40 | 10.40 | 10.40 | 1019 | 64 | 1.27 | 168 | Spring | 2021-04-19 21:00:00 |\n",
       "| 29 | 29 | Seoul | Clear  | 10000 | 14.50 | 14.50 | 14.50 | 1020 | 44 | 1.52 | 187 | Spring | 2021-04-20 00:00:00 |\n",
       "| 30 | 30 | Seoul | Clouds | 10000 | 19.78 | 19.78 | 19.78 | 1020 | 28 | 1.90 | 248 | Spring | 2021-04-20 03:00:00 |\n",
       "| 31 | 31 | Seoul | Clouds | 10000 | 21.94 | 21.94 | 21.94 | 1019 | 26 | 3.72 | 254 | Spring | 2021-04-20 06:00:00 |\n",
       "| 32 | 32 | Seoul | Clear  | 10000 | 19.74 | 19.74 | 19.74 | 1019 | 33 | 3.26 | 255 | Spring | 2021-04-20 09:00:00 |\n",
       "| 33 | 33 | Seoul | Clear  | 10000 | 17.15 | 17.15 | 17.15 | 1021 | 41 | 1.29 | 224 | Spring | 2021-04-20 12:00:00 |\n",
       "| 34 | 34 | Seoul | Clear  | 10000 | 15.32 | 15.32 | 15.32 | 1022 | 48 | 1.04 | 231 | Spring | 2021-04-20 15:00:00 |\n",
       "| 35 | 35 | Seoul | Clear  | 10000 | 13.88 | 13.88 | 13.88 | 1023 | 54 | 0.53 | 262 | Spring | 2021-04-20 18:00:00 |\n",
       "| 36 | 36 | Seoul | Clear  | 10000 | 13.11 | 13.11 | 13.11 | 1023 | 55 | 0.84 |  83 | Spring | 2021-04-20 21:00:00 |\n",
       "| 37 | 37 | Seoul | Clouds | 10000 | 17.53 | 17.53 | 17.53 | 1024 | 38 | 0.55 | 134 | Spring | 2021-04-21 00:00:00 |\n",
       "| 38 | 38 | Seoul | Clouds | 10000 | 23.30 | 23.30 | 23.30 | 1023 | 24 | 0.73 | 181 | Spring | 2021-04-21 03:00:00 |\n",
       "| 39 | 39 | Seoul | Clouds | 10000 | 26.13 | 26.13 | 26.13 | 1021 | 17 | 0.70 | 218 | Spring | 2021-04-21 06:00:00 |\n",
       "| 40 | 40 | Seoul | Clouds | 10000 | 25.10 | 25.10 | 25.10 | 1020 | 17 | 1.54 | 262 | Spring | 2021-04-21 09:00:00 |\n",
       "\n"
      ],
      "text/plain": [
       "   row_names CITY  WEATHER VISIBILITY TEMP  TEMP_MIN TEMP_MAX PRESSURE HUMIDITY\n",
       "1  1         Seoul Clear   10000      12.32 10.91    12.32    1015     50      \n",
       "2  2         Seoul Clear   10000      11.48  9.81    11.48    1016     48      \n",
       "3  3         Seoul Clouds  10000       9.99  8.82     9.99    1015     46      \n",
       "4  4         Seoul Clouds  10000       7.87  7.87     7.87    1014     46      \n",
       "5  5         Seoul Clouds  10000      10.09 10.09    10.09    1014     37      \n",
       "6  6         Seoul Rain    10000       9.74  9.74     9.74    1014     48      \n",
       "7  7         Seoul Clouds  10000      11.39 11.39    11.39    1012     44      \n",
       "8  8         Seoul Rain    10000       9.75  9.75     9.75    1012     57      \n",
       "9  9         Seoul Rain    10000       9.11  9.11     9.11    1013     51      \n",
       "10 10        Seoul Clear   10000       8.33  8.33     8.33    1013     62      \n",
       "11 11        Seoul Clear   10000       7.57  7.57     7.57    1013     69      \n",
       "12 12        Seoul Clear   10000       7.13  7.13     7.13    1014     65      \n",
       "13 13        Seoul Clear   10000      10.49 10.49    10.49    1015     45      \n",
       "14 14        Seoul Clear   10000      15.05 15.05    15.05    1014     30      \n",
       "15 15        Seoul Clear   10000      17.37 17.37    17.37    1012     24      \n",
       "16 16        Seoul Clear   10000      16.14 16.14    16.14    1013     30      \n",
       "17 17        Seoul Clear   10000      13.27 13.27    13.27    1015     42      \n",
       "18 18        Seoul Clear   10000      11.56 11.56    11.56    1016     46      \n",
       "19 19        Seoul Clear   10000      10.01 10.01    10.01    1016     52      \n",
       "20 20        Seoul Clear   10000       8.74  8.74     8.74    1016     62      \n",
       "21 21        Seoul Clear   10000      12.37 12.37    12.37    1017     40      \n",
       "22 22        Seoul Clear   10000      17.40 17.40    17.40    1016     23      \n",
       "23 23        Seoul Clouds  10000      18.72 18.72    18.72    1014     20      \n",
       "24 24        Seoul Clouds  10000      16.95 16.95    16.95    1014     28      \n",
       "25 25        Seoul Clouds  10000      13.74 13.74    13.74    1016     48      \n",
       "26 26        Seoul Clear   10000      12.35 12.35    12.35    1018     59      \n",
       "27 27        Seoul Clear   10000      11.26 11.26    11.26    1018     63      \n",
       "28 28        Seoul Clear   10000      10.40 10.40    10.40    1019     64      \n",
       "29 29        Seoul Clear   10000      14.50 14.50    14.50    1020     44      \n",
       "30 30        Seoul Clouds  10000      19.78 19.78    19.78    1020     28      \n",
       "31 31        Seoul Clouds  10000      21.94 21.94    21.94    1019     26      \n",
       "32 32        Seoul Clear   10000      19.74 19.74    19.74    1019     33      \n",
       "33 33        Seoul Clear   10000      17.15 17.15    17.15    1021     41      \n",
       "34 34        Seoul Clear   10000      15.32 15.32    15.32    1022     48      \n",
       "35 35        Seoul Clear   10000      13.88 13.88    13.88    1023     54      \n",
       "36 36        Seoul Clear   10000      13.11 13.11    13.11    1023     55      \n",
       "37 37        Seoul Clouds  10000      17.53 17.53    17.53    1024     38      \n",
       "38 38        Seoul Clouds  10000      23.30 23.30    23.30    1023     24      \n",
       "39 39        Seoul Clouds  10000      26.13 26.13    26.13    1021     17      \n",
       "40 40        Seoul Clouds  10000      25.10 25.10    25.10    1020     17      \n",
       "   WIND_SPEED WIND_DEG SEASON FORECAST_DATETIME  \n",
       "1  2.18       248      Spring 2021-04-16 12:00:00\n",
       "2  1.25       142      Spring 2021-04-16 15:00:00\n",
       "3  0.94       130      Spring 2021-04-16 18:00:00\n",
       "4  0.83        31      Spring 2021-04-16 21:00:00\n",
       "5  1.96       309      Spring 2021-04-17 00:00:00\n",
       "6  3.24       267      Spring 2021-04-17 03:00:00\n",
       "7  5.65       275      Spring 2021-04-17 06:00:00\n",
       "8  5.63       267      Spring 2021-04-17 09:00:00\n",
       "9  4.91       280      Spring 2021-04-17 12:00:00\n",
       "10 4.49       284      Spring 2021-04-17 15:00:00\n",
       "11 4.72       290      Spring 2021-04-17 18:00:00\n",
       "12 5.06       301      Spring 2021-04-17 21:00:00\n",
       "13 6.89       318      Spring 2021-04-18 00:00:00\n",
       "14 5.92       309      Spring 2021-04-18 03:00:00\n",
       "15 5.84       295      Spring 2021-04-18 06:00:00\n",
       "16 5.61       291      Spring 2021-04-18 09:00:00\n",
       "17 3.78       286      Spring 2021-04-18 12:00:00\n",
       "18 1.76       253      Spring 2021-04-18 15:00:00\n",
       "19 1.90       210      Spring 2021-04-18 18:00:00\n",
       "20 1.78       195      Spring 2021-04-18 21:00:00\n",
       "21 2.20       215      Spring 2021-04-19 00:00:00\n",
       "22 3.91       248      Spring 2021-04-19 03:00:00\n",
       "23 4.71       255      Spring 2021-04-19 06:00:00\n",
       "24 3.75       250      Spring 2021-04-19 09:00:00\n",
       "25 2.15       235      Spring 2021-04-19 12:00:00\n",
       "26 1.62       206      Spring 2021-04-19 15:00:00\n",
       "27 1.43       196      Spring 2021-04-19 18:00:00\n",
       "28 1.27       168      Spring 2021-04-19 21:00:00\n",
       "29 1.52       187      Spring 2021-04-20 00:00:00\n",
       "30 1.90       248      Spring 2021-04-20 03:00:00\n",
       "31 3.72       254      Spring 2021-04-20 06:00:00\n",
       "32 3.26       255      Spring 2021-04-20 09:00:00\n",
       "33 1.29       224      Spring 2021-04-20 12:00:00\n",
       "34 1.04       231      Spring 2021-04-20 15:00:00\n",
       "35 0.53       262      Spring 2021-04-20 18:00:00\n",
       "36 0.84        83      Spring 2021-04-20 21:00:00\n",
       "37 0.55       134      Spring 2021-04-21 00:00:00\n",
       "38 0.73       181      Spring 2021-04-21 03:00:00\n",
       "39 0.70       218      Spring 2021-04-21 06:00:00\n",
       "40 1.54       262      Spring 2021-04-21 09:00:00"
      ]
     },
     "metadata": {},
     "output_type": "display_data"
    }
   ],
   "source": [
    "# provide your solution here\n",
    "sql <- \"SELECT * FROM CITIES_WEATHER_FORECAST WHERE CITY='Seoul'\"\n",
    "dbGetQuery(con, sql)"
   ]
  },
  {
   "cell_type": "markdown",
   "metadata": {},
   "source": [
    "## Task 4 - Seasons\n",
    "#### Find which seasons are included in the seoul bike sharing dataset.\n"
   ]
  },
  {
   "cell_type": "markdown",
   "metadata": {},
   "source": [
    "### Solution 4\n"
   ]
  },
  {
   "cell_type": "code",
   "execution_count": 7,
   "metadata": {
    "tags": []
   },
   "outputs": [
    {
     "data": {
      "text/html": [
       "<table>\n",
       "<caption>A data.frame: 4 × 1</caption>\n",
       "<thead>\n",
       "\t<tr><th></th><th scope=col>SEASONS</th></tr>\n",
       "\t<tr><th></th><th scope=col>&lt;chr&gt;</th></tr>\n",
       "</thead>\n",
       "<tbody>\n",
       "\t<tr><th scope=row>1</th><td>Winter</td></tr>\n",
       "\t<tr><th scope=row>2</th><td>Spring</td></tr>\n",
       "\t<tr><th scope=row>3</th><td>Summer</td></tr>\n",
       "\t<tr><th scope=row>4</th><td>Autumn</td></tr>\n",
       "</tbody>\n",
       "</table>\n"
      ],
      "text/latex": [
       "A data.frame: 4 × 1\n",
       "\\begin{tabular}{r|l}\n",
       "  & SEASONS\\\\\n",
       "  & <chr>\\\\\n",
       "\\hline\n",
       "\t1 & Winter\\\\\n",
       "\t2 & Spring\\\\\n",
       "\t3 & Summer\\\\\n",
       "\t4 & Autumn\\\\\n",
       "\\end{tabular}\n"
      ],
      "text/markdown": [
       "\n",
       "A data.frame: 4 × 1\n",
       "\n",
       "| <!--/--> | SEASONS &lt;chr&gt; |\n",
       "|---|---|\n",
       "| 1 | Winter |\n",
       "| 2 | Spring |\n",
       "| 3 | Summer |\n",
       "| 4 | Autumn |\n",
       "\n"
      ],
      "text/plain": [
       "  SEASONS\n",
       "1 Winter \n",
       "2 Spring \n",
       "3 Summer \n",
       "4 Autumn "
      ]
     },
     "metadata": {},
     "output_type": "display_data"
    }
   ],
   "source": [
    "# provide your solution here\n",
    "sql <- \"SELECT DISTINCT SEASONS FROM SEOUL_BIKE_SHARING\"\n",
    "dbGetQuery(con, sql)"
   ]
  },
  {
   "cell_type": "markdown",
   "metadata": {},
   "source": [
    "## Task 5 - Date Range\n",
    "#### Find the first and last dates in the Seoul Bike Sharing dataset.\n"
   ]
  },
  {
   "cell_type": "markdown",
   "metadata": {},
   "source": [
    "### Solution 5\n"
   ]
  },
  {
   "cell_type": "code",
   "execution_count": 8,
   "metadata": {
    "tags": []
   },
   "outputs": [
    {
     "data": {
      "text/html": [
       "<table>\n",
       "<caption>A data.frame: 1 × 2</caption>\n",
       "<thead>\n",
       "\t<tr><th></th><th scope=col>first_date</th><th scope=col>max_date</th></tr>\n",
       "\t<tr><th></th><th scope=col>&lt;chr&gt;</th><th scope=col>&lt;chr&gt;</th></tr>\n",
       "</thead>\n",
       "<tbody>\n",
       "\t<tr><th scope=row>1</th><td>2017-12-01</td><td>2018-11-30</td></tr>\n",
       "</tbody>\n",
       "</table>\n"
      ],
      "text/latex": [
       "A data.frame: 1 × 2\n",
       "\\begin{tabular}{r|ll}\n",
       "  & first\\_date & max\\_date\\\\\n",
       "  & <chr> & <chr>\\\\\n",
       "\\hline\n",
       "\t1 & 2017-12-01 & 2018-11-30\\\\\n",
       "\\end{tabular}\n"
      ],
      "text/markdown": [
       "\n",
       "A data.frame: 1 × 2\n",
       "\n",
       "| <!--/--> | first_date &lt;chr&gt; | max_date &lt;chr&gt; |\n",
       "|---|---|---|\n",
       "| 1 | 2017-12-01 | 2018-11-30 |\n",
       "\n"
      ],
      "text/plain": [
       "  first_date max_date  \n",
       "1 2017-12-01 2018-11-30"
      ]
     },
     "metadata": {},
     "output_type": "display_data"
    }
   ],
   "source": [
    "# provide your solution here\n",
    "sql <- \"SELECT MIN(DATE(STRFTIME('%Y-%m-%d', SUBSTR(DATE, 7, 4) || '-' || SUBSTR(DATE, 4, 2) || '-' || SUBSTR(DATE, 1, 2)))) AS first_date, MAX(DATE(STRFTIME('%Y-%m-%d', SUBSTR(DATE, 7, 4) || '-' || SUBSTR(DATE, 4, 2) || '-' || SUBSTR(DATE, 1, 2)))) AS max_date FROM SEOUL_BIKE_SHARING\"\n",
    "dbGetQuery(con, sql)"
   ]
  },
  {
   "cell_type": "markdown",
   "metadata": {},
   "source": [
    "## Task 6 - Subquery - 'all-time high'\n",
    "#### determine which date and hour had the most bike rentals.\n"
   ]
  },
  {
   "cell_type": "markdown",
   "metadata": {},
   "source": [
    "### Solution 6\n"
   ]
  },
  {
   "cell_type": "code",
   "execution_count": 10,
   "metadata": {
    "tags": []
   },
   "outputs": [
    {
     "data": {
      "text/html": [
       "<table>\n",
       "<caption>A data.frame: 1 × 3</caption>\n",
       "<thead>\n",
       "\t<tr><th></th><th scope=col>DATE</th><th scope=col>HOUR</th><th scope=col>RENTED_BIKE_COUNT</th></tr>\n",
       "\t<tr><th></th><th scope=col>&lt;chr&gt;</th><th scope=col>&lt;int&gt;</th><th scope=col>&lt;int&gt;</th></tr>\n",
       "</thead>\n",
       "<tbody>\n",
       "\t<tr><th scope=row>1</th><td>19/06/2018</td><td>18</td><td>3556</td></tr>\n",
       "</tbody>\n",
       "</table>\n"
      ],
      "text/latex": [
       "A data.frame: 1 × 3\n",
       "\\begin{tabular}{r|lll}\n",
       "  & DATE & HOUR & RENTED\\_BIKE\\_COUNT\\\\\n",
       "  & <chr> & <int> & <int>\\\\\n",
       "\\hline\n",
       "\t1 & 19/06/2018 & 18 & 3556\\\\\n",
       "\\end{tabular}\n"
      ],
      "text/markdown": [
       "\n",
       "A data.frame: 1 × 3\n",
       "\n",
       "| <!--/--> | DATE &lt;chr&gt; | HOUR &lt;int&gt; | RENTED_BIKE_COUNT &lt;int&gt; |\n",
       "|---|---|---|---|\n",
       "| 1 | 19/06/2018 | 18 | 3556 |\n",
       "\n"
      ],
      "text/plain": [
       "  DATE       HOUR RENTED_BIKE_COUNT\n",
       "1 19/06/2018 18   3556             "
      ]
     },
     "metadata": {},
     "output_type": "display_data"
    }
   ],
   "source": [
    "# provide your solution here\n",
    "sql <- \"SELECT \n",
    "            DATE\n",
    "           ,HOUR\n",
    "           ,RENTED_BIKE_COUNT \n",
    "        FROM SEOUL_BIKE_SHARING \n",
    "            WHERE RENTED_BIKE_COUNT = \n",
    "                (SELECT\n",
    "                    MAX(RENTED_BIKE_COUNT) \n",
    "                FROM SEOUL_BIKE_SHARING)\"\n",
    "dbGetQuery(con, sql)"
   ]
  },
  {
   "cell_type": "markdown",
   "metadata": {},
   "source": [
    "## Task 7 - Hourly popularity and temperature by season\n",
    "#### Determine the average hourly temperature and the average number of bike rentals per hour over each season. List the top ten results by average bike count."
   ]
  },
  {
   "cell_type": "markdown",
   "metadata": {},
   "source": [
    "### Solution 7\n"
   ]
  },
  {
   "cell_type": "code",
   "execution_count": 16,
   "metadata": {
    "tags": []
   },
   "outputs": [
    {
     "data": {
      "text/html": [
       "<table>\n",
       "<caption>A data.frame: 10 × 4</caption>\n",
       "<thead>\n",
       "\t<tr><th></th><th scope=col>SEASONS</th><th scope=col>HOUR</th><th scope=col>AVG_RENTED</th><th scope=col>AVG_TEMP</th></tr>\n",
       "\t<tr><th></th><th scope=col>&lt;chr&gt;</th><th scope=col>&lt;int&gt;</th><th scope=col>&lt;dbl&gt;</th><th scope=col>&lt;dbl&gt;</th></tr>\n",
       "</thead>\n",
       "<tbody>\n",
       "\t<tr><th scope=row>1</th><td>Summer</td><td>18</td><td>2135.141</td><td>29.38791</td></tr>\n",
       "\t<tr><th scope=row>2</th><td>Autumn</td><td>18</td><td>1983.333</td><td>16.03185</td></tr>\n",
       "\t<tr><th scope=row>3</th><td>Summer</td><td>19</td><td>1889.250</td><td>28.27378</td></tr>\n",
       "\t<tr><th scope=row>4</th><td>Summer</td><td>20</td><td>1801.924</td><td>27.06630</td></tr>\n",
       "\t<tr><th scope=row>5</th><td>Summer</td><td>21</td><td>1754.065</td><td>26.27826</td></tr>\n",
       "\t<tr><th scope=row>6</th><td>Spring</td><td>18</td><td>1689.311</td><td>15.97222</td></tr>\n",
       "\t<tr><th scope=row>7</th><td>Summer</td><td>22</td><td>1567.870</td><td>25.69891</td></tr>\n",
       "\t<tr><th scope=row>8</th><td>Autumn</td><td>17</td><td>1562.877</td><td>17.27778</td></tr>\n",
       "\t<tr><th scope=row>9</th><td>Summer</td><td>17</td><td>1526.293</td><td>30.07691</td></tr>\n",
       "\t<tr><th scope=row>10</th><td>Autumn</td><td>19</td><td>1515.568</td><td>15.06346</td></tr>\n",
       "</tbody>\n",
       "</table>\n"
      ],
      "text/latex": [
       "A data.frame: 10 × 4\n",
       "\\begin{tabular}{r|llll}\n",
       "  & SEASONS & HOUR & AVG\\_RENTED & AVG\\_TEMP\\\\\n",
       "  & <chr> & <int> & <dbl> & <dbl>\\\\\n",
       "\\hline\n",
       "\t1 & Summer & 18 & 2135.141 & 29.38791\\\\\n",
       "\t2 & Autumn & 18 & 1983.333 & 16.03185\\\\\n",
       "\t3 & Summer & 19 & 1889.250 & 28.27378\\\\\n",
       "\t4 & Summer & 20 & 1801.924 & 27.06630\\\\\n",
       "\t5 & Summer & 21 & 1754.065 & 26.27826\\\\\n",
       "\t6 & Spring & 18 & 1689.311 & 15.97222\\\\\n",
       "\t7 & Summer & 22 & 1567.870 & 25.69891\\\\\n",
       "\t8 & Autumn & 17 & 1562.877 & 17.27778\\\\\n",
       "\t9 & Summer & 17 & 1526.293 & 30.07691\\\\\n",
       "\t10 & Autumn & 19 & 1515.568 & 15.06346\\\\\n",
       "\\end{tabular}\n"
      ],
      "text/markdown": [
       "\n",
       "A data.frame: 10 × 4\n",
       "\n",
       "| <!--/--> | SEASONS &lt;chr&gt; | HOUR &lt;int&gt; | AVG_RENTED &lt;dbl&gt; | AVG_TEMP &lt;dbl&gt; |\n",
       "|---|---|---|---|---|\n",
       "| 1 | Summer | 18 | 2135.141 | 29.38791 |\n",
       "| 2 | Autumn | 18 | 1983.333 | 16.03185 |\n",
       "| 3 | Summer | 19 | 1889.250 | 28.27378 |\n",
       "| 4 | Summer | 20 | 1801.924 | 27.06630 |\n",
       "| 5 | Summer | 21 | 1754.065 | 26.27826 |\n",
       "| 6 | Spring | 18 | 1689.311 | 15.97222 |\n",
       "| 7 | Summer | 22 | 1567.870 | 25.69891 |\n",
       "| 8 | Autumn | 17 | 1562.877 | 17.27778 |\n",
       "| 9 | Summer | 17 | 1526.293 | 30.07691 |\n",
       "| 10 | Autumn | 19 | 1515.568 | 15.06346 |\n",
       "\n"
      ],
      "text/plain": [
       "   SEASONS HOUR AVG_RENTED AVG_TEMP\n",
       "1  Summer  18   2135.141   29.38791\n",
       "2  Autumn  18   1983.333   16.03185\n",
       "3  Summer  19   1889.250   28.27378\n",
       "4  Summer  20   1801.924   27.06630\n",
       "5  Summer  21   1754.065   26.27826\n",
       "6  Spring  18   1689.311   15.97222\n",
       "7  Summer  22   1567.870   25.69891\n",
       "8  Autumn  17   1562.877   17.27778\n",
       "9  Summer  17   1526.293   30.07691\n",
       "10 Autumn  19   1515.568   15.06346"
      ]
     },
     "metadata": {},
     "output_type": "display_data"
    }
   ],
   "source": [
    "# provide your solution here\n",
    "sql <- \"SELECT SEASONS, HOUR, AVG(RENTED_BIKE_COUNT) AS AVG_RENTED , AVG(TEMPERATURE) AS AVG_TEMP FROM SEOUL_BIKE_SHARING GROUP BY SEASONS, HOUR ORDER BY AVG_RENTED DESC LIMIT 10\"\n",
    "dbGetQuery(con, sql)"
   ]
  },
  {
   "cell_type": "markdown",
   "metadata": {},
   "source": [
    "## Task 8 - Rental Seasonality\n",
    "#### Find the average hourly bike count during each season. \n",
    "Also include the minimum, maximum, and standard deviation of the hourly bike count for each season. \n",
    "\n",
    "> Hint : Use the SQRT(AVG(col*col) - AVG(col)*AVG(col) ) function where col refers to your column name for finding the standard deviation\n"
   ]
  },
  {
   "cell_type": "markdown",
   "metadata": {},
   "source": [
    "### Solution 8\n"
   ]
  },
  {
   "cell_type": "code",
   "execution_count": 19,
   "metadata": {
    "tags": []
   },
   "outputs": [
    {
     "data": {
      "text/html": [
       "<table>\n",
       "<caption>A data.frame: 96 × 6</caption>\n",
       "<thead>\n",
       "\t<tr><th></th><th scope=col>SEASONS</th><th scope=col>HOUR</th><th scope=col>AVG_RENTED</th><th scope=col>MIN_RENTED</th><th scope=col>MAX_RENTED</th><th scope=col>STD_BIKE_COUNT</th></tr>\n",
       "\t<tr><th></th><th scope=col>&lt;chr&gt;</th><th scope=col>&lt;int&gt;</th><th scope=col>&lt;dbl&gt;</th><th scope=col>&lt;int&gt;</th><th scope=col>&lt;int&gt;</th><th scope=col>&lt;dbl&gt;</th></tr>\n",
       "</thead>\n",
       "<tbody>\n",
       "\t<tr><th scope=row>1</th><td>Summer</td><td>18</td><td>2135.1413</td><td>17</td><td>3556</td><td>2134.6412</td></tr>\n",
       "\t<tr><th scope=row>2</th><td>Autumn</td><td>18</td><td>1983.3333</td><td>40</td><td>3298</td><td>1982.8333</td></tr>\n",
       "\t<tr><th scope=row>3</th><td>Summer</td><td>19</td><td>1889.2500</td><td>18</td><td>2984</td><td>1888.7499</td></tr>\n",
       "\t<tr><th scope=row>4</th><td>Summer</td><td>20</td><td>1801.9239</td><td>10</td><td>2579</td><td>1801.4238</td></tr>\n",
       "\t<tr><th scope=row>5</th><td>Summer</td><td>21</td><td>1754.0652</td><td>17</td><td>2505</td><td>1753.5651</td></tr>\n",
       "\t<tr><th scope=row>6</th><td>Spring</td><td>18</td><td>1689.3111</td><td>22</td><td>3251</td><td>1688.8110</td></tr>\n",
       "\t<tr><th scope=row>7</th><td>Summer</td><td>22</td><td>1567.8696</td><td>16</td><td>2309</td><td>1567.3695</td></tr>\n",
       "\t<tr><th scope=row>8</th><td>Autumn</td><td>17</td><td>1562.8765</td><td>23</td><td>2432</td><td>1562.3765</td></tr>\n",
       "\t<tr><th scope=row>9</th><td>Summer</td><td>17</td><td>1526.2935</td><td>25</td><td>2664</td><td>1525.7934</td></tr>\n",
       "\t<tr><th scope=row>10</th><td>Autumn</td><td>19</td><td>1515.5679</td><td>19</td><td>2518</td><td>1515.0678</td></tr>\n",
       "\t<tr><th scope=row>11</th><td>Summer</td><td> 8</td><td>1418.5978</td><td>20</td><td>2495</td><td>1418.0977</td></tr>\n",
       "\t<tr><th scope=row>12</th><td>Autumn</td><td> 8</td><td>1345.0370</td><td> 6</td><td>2391</td><td>1344.5369</td></tr>\n",
       "\t<tr><th scope=row>13</th><td>Autumn</td><td>20</td><td>1321.7037</td><td>12</td><td>2259</td><td>1321.2036</td></tr>\n",
       "\t<tr><th scope=row>14</th><td>Spring</td><td>17</td><td>1307.9778</td><td>24</td><td>2410</td><td>1307.4777</td></tr>\n",
       "\t<tr><th scope=row>15</th><td>Autumn</td><td>16</td><td>1293.2099</td><td>14</td><td>2270</td><td>1292.7098</td></tr>\n",
       "\t<tr><th scope=row>16</th><td>Autumn</td><td>21</td><td>1253.8148</td><td>21</td><td>2212</td><td>1253.3147</td></tr>\n",
       "\t<tr><th scope=row>17</th><td>Spring</td><td>19</td><td>1247.7111</td><td>29</td><td>2656</td><td>1247.2110</td></tr>\n",
       "\t<tr><th scope=row>18</th><td>Summer</td><td>16</td><td>1174.1739</td><td>41</td><td>2474</td><td>1173.6738</td></tr>\n",
       "\t<tr><th scope=row>19</th><td>Autumn</td><td>15</td><td>1156.7037</td><td> 8</td><td>2200</td><td>1156.2036</td></tr>\n",
       "\t<tr><th scope=row>20</th><td>Summer</td><td>23</td><td>1153.9022</td><td>15</td><td>1732</td><td>1153.4021</td></tr>\n",
       "\t<tr><th scope=row>21</th><td>Autumn</td><td>22</td><td>1130.2099</td><td>14</td><td>1868</td><td>1129.7098</td></tr>\n",
       "\t<tr><th scope=row>22</th><td>Spring</td><td>16</td><td>1101.4556</td><td>31</td><td>2479</td><td>1100.9554</td></tr>\n",
       "\t<tr><th scope=row>23</th><td>Spring</td><td>20</td><td>1060.5111</td><td>12</td><td>2252</td><td>1060.0110</td></tr>\n",
       "\t<tr><th scope=row>24</th><td>Autumn</td><td>14</td><td>1058.8272</td><td>17</td><td>1995</td><td>1058.3270</td></tr>\n",
       "\t<tr><th scope=row>25</th><td>Spring</td><td> 8</td><td>1036.3778</td><td>16</td><td>2281</td><td>1035.8777</td></tr>\n",
       "\t<tr><th scope=row>26</th><td>Spring</td><td>21</td><td>1021.1222</td><td> 7</td><td>2140</td><td>1020.6221</td></tr>\n",
       "\t<tr><th scope=row>27</th><td>Summer</td><td>15</td><td>1009.7174</td><td>51</td><td>2288</td><td>1009.2173</td></tr>\n",
       "\t<tr><th scope=row>28</th><td>Autumn</td><td>13</td><td>1002.6667</td><td>18</td><td>1849</td><td>1002.1665</td></tr>\n",
       "\t<tr><th scope=row>29</th><td>Spring</td><td>15</td><td> 990.9778</td><td>14</td><td>2329</td><td> 990.4777</td></tr>\n",
       "\t<tr><th scope=row>30</th><td>Autumn</td><td>12</td><td> 934.6420</td><td>17</td><td>1634</td><td> 934.1418</td></tr>\n",
       "\t<tr><th scope=row>⋮</th><td>⋮</td><td>⋮</td><td>⋮</td><td>⋮</td><td>⋮</td><td>⋮</td></tr>\n",
       "\t<tr><th scope=row>67</th><td>Winter</td><td>19</td><td>304.03333</td><td>19</td><td>619</td><td>303.53292</td></tr>\n",
       "\t<tr><th scope=row>68</th><td>Winter</td><td>15</td><td>298.64444</td><td> 7</td><td>621</td><td>298.14403</td></tr>\n",
       "\t<tr><th scope=row>69</th><td>Winter</td><td>14</td><td>284.28889</td><td>17</td><td>611</td><td>283.78845</td></tr>\n",
       "\t<tr><th scope=row>70</th><td>Winter</td><td>13</td><td>275.25556</td><td> 7</td><td>606</td><td>274.75510</td></tr>\n",
       "\t<tr><th scope=row>71</th><td>Winter</td><td>12</td><td>263.63333</td><td> 4</td><td>479</td><td>263.13286</td></tr>\n",
       "\t<tr><th scope=row>72</th><td>Spring</td><td> 6</td><td>257.23333</td><td> 5</td><td>646</td><td>256.73285</td></tr>\n",
       "\t<tr><th scope=row>73</th><td>Autumn</td><td> 3</td><td>256.55000</td><td>28</td><td>514</td><td>256.04951</td></tr>\n",
       "\t<tr><th scope=row>74</th><td>Winter</td><td> 9</td><td>254.60000</td><td> 3</td><td>509</td><td>254.09951</td></tr>\n",
       "\t<tr><th scope=row>75</th><td>Spring</td><td> 2</td><td>252.96667</td><td> 9</td><td>590</td><td>252.46617</td></tr>\n",
       "\t<tr><th scope=row>76</th><td>Summer</td><td> 5</td><td>245.93478</td><td>28</td><td>383</td><td>245.43427</td></tr>\n",
       "\t<tr><th scope=row>77</th><td>Winter</td><td>20</td><td>243.23333</td><td> 8</td><td>483</td><td>242.73282</td></tr>\n",
       "\t<tr><th scope=row>78</th><td>Winter</td><td>21</td><td>240.50000</td><td>10</td><td>512</td><td>239.99948</td></tr>\n",
       "\t<tr><th scope=row>79</th><td>Winter</td><td>11</td><td>228.32222</td><td> 9</td><td>388</td><td>227.82167</td></tr>\n",
       "\t<tr><th scope=row>80</th><td>Winter</td><td>22</td><td>225.13333</td><td>13</td><td>461</td><td>224.63278</td></tr>\n",
       "\t<tr><th scope=row>81</th><td>Summer</td><td> 4</td><td>223.81522</td><td>27</td><td>421</td><td>223.31466</td></tr>\n",
       "\t<tr><th scope=row>82</th><td>Winter</td><td> 7</td><td>209.56667</td><td> 3</td><td>498</td><td>209.06607</td></tr>\n",
       "\t<tr><th scope=row>83</th><td>Winter</td><td>10</td><td>186.40000</td><td> 4</td><td>339</td><td>185.89933</td></tr>\n",
       "\t<tr><th scope=row>84</th><td>Winter</td><td>23</td><td>173.43333</td><td>23</td><td>366</td><td>172.93261</td></tr>\n",
       "\t<tr><th scope=row>85</th><td>Autumn</td><td> 4</td><td>169.02500</td><td>24</td><td>338</td><td>168.52426</td></tr>\n",
       "\t<tr><th scope=row>86</th><td>Spring</td><td> 3</td><td>168.47778</td><td> 2</td><td>423</td><td>167.97703</td></tr>\n",
       "\t<tr><th scope=row>87</th><td>Winter</td><td> 0</td><td>165.17778</td><td>42</td><td>342</td><td>164.67702</td></tr>\n",
       "\t<tr><th scope=row>88</th><td>Autumn</td><td> 5</td><td>163.41250</td><td>24</td><td>264</td><td>162.91173</td></tr>\n",
       "\t<tr><th scope=row>89</th><td>Winter</td><td> 1</td><td>159.05556</td><td>43</td><td>337</td><td>158.55477</td></tr>\n",
       "\t<tr><th scope=row>90</th><td>Winter</td><td> 2</td><td>117.78889</td><td>38</td><td>312</td><td>117.28782</td></tr>\n",
       "\t<tr><th scope=row>91</th><td>Spring</td><td> 5</td><td>116.17778</td><td> 6</td><td>265</td><td>115.67670</td></tr>\n",
       "\t<tr><th scope=row>92</th><td>Spring</td><td> 4</td><td>108.22222</td><td> 2</td><td>252</td><td>107.72106</td></tr>\n",
       "\t<tr><th scope=row>93</th><td>Winter</td><td> 6</td><td> 92.82222</td><td> 9</td><td>200</td><td> 92.32087</td></tr>\n",
       "\t<tr><th scope=row>94</th><td>Winter</td><td> 3</td><td> 77.81111</td><td>21</td><td>230</td><td> 77.30949</td></tr>\n",
       "\t<tr><th scope=row>95</th><td>Winter</td><td> 5</td><td> 51.22222</td><td>13</td><td>100</td><td> 50.71976</td></tr>\n",
       "\t<tr><th scope=row>96</th><td>Winter</td><td> 4</td><td> 50.47778</td><td>20</td><td>120</td><td> 49.97528</td></tr>\n",
       "</tbody>\n",
       "</table>\n"
      ],
      "text/latex": [
       "A data.frame: 96 × 6\n",
       "\\begin{tabular}{r|llllll}\n",
       "  & SEASONS & HOUR & AVG\\_RENTED & MIN\\_RENTED & MAX\\_RENTED & STD\\_BIKE\\_COUNT\\\\\n",
       "  & <chr> & <int> & <dbl> & <int> & <int> & <dbl>\\\\\n",
       "\\hline\n",
       "\t1 & Summer & 18 & 2135.1413 & 17 & 3556 & 2134.6412\\\\\n",
       "\t2 & Autumn & 18 & 1983.3333 & 40 & 3298 & 1982.8333\\\\\n",
       "\t3 & Summer & 19 & 1889.2500 & 18 & 2984 & 1888.7499\\\\\n",
       "\t4 & Summer & 20 & 1801.9239 & 10 & 2579 & 1801.4238\\\\\n",
       "\t5 & Summer & 21 & 1754.0652 & 17 & 2505 & 1753.5651\\\\\n",
       "\t6 & Spring & 18 & 1689.3111 & 22 & 3251 & 1688.8110\\\\\n",
       "\t7 & Summer & 22 & 1567.8696 & 16 & 2309 & 1567.3695\\\\\n",
       "\t8 & Autumn & 17 & 1562.8765 & 23 & 2432 & 1562.3765\\\\\n",
       "\t9 & Summer & 17 & 1526.2935 & 25 & 2664 & 1525.7934\\\\\n",
       "\t10 & Autumn & 19 & 1515.5679 & 19 & 2518 & 1515.0678\\\\\n",
       "\t11 & Summer &  8 & 1418.5978 & 20 & 2495 & 1418.0977\\\\\n",
       "\t12 & Autumn &  8 & 1345.0370 &  6 & 2391 & 1344.5369\\\\\n",
       "\t13 & Autumn & 20 & 1321.7037 & 12 & 2259 & 1321.2036\\\\\n",
       "\t14 & Spring & 17 & 1307.9778 & 24 & 2410 & 1307.4777\\\\\n",
       "\t15 & Autumn & 16 & 1293.2099 & 14 & 2270 & 1292.7098\\\\\n",
       "\t16 & Autumn & 21 & 1253.8148 & 21 & 2212 & 1253.3147\\\\\n",
       "\t17 & Spring & 19 & 1247.7111 & 29 & 2656 & 1247.2110\\\\\n",
       "\t18 & Summer & 16 & 1174.1739 & 41 & 2474 & 1173.6738\\\\\n",
       "\t19 & Autumn & 15 & 1156.7037 &  8 & 2200 & 1156.2036\\\\\n",
       "\t20 & Summer & 23 & 1153.9022 & 15 & 1732 & 1153.4021\\\\\n",
       "\t21 & Autumn & 22 & 1130.2099 & 14 & 1868 & 1129.7098\\\\\n",
       "\t22 & Spring & 16 & 1101.4556 & 31 & 2479 & 1100.9554\\\\\n",
       "\t23 & Spring & 20 & 1060.5111 & 12 & 2252 & 1060.0110\\\\\n",
       "\t24 & Autumn & 14 & 1058.8272 & 17 & 1995 & 1058.3270\\\\\n",
       "\t25 & Spring &  8 & 1036.3778 & 16 & 2281 & 1035.8777\\\\\n",
       "\t26 & Spring & 21 & 1021.1222 &  7 & 2140 & 1020.6221\\\\\n",
       "\t27 & Summer & 15 & 1009.7174 & 51 & 2288 & 1009.2173\\\\\n",
       "\t28 & Autumn & 13 & 1002.6667 & 18 & 1849 & 1002.1665\\\\\n",
       "\t29 & Spring & 15 &  990.9778 & 14 & 2329 &  990.4777\\\\\n",
       "\t30 & Autumn & 12 &  934.6420 & 17 & 1634 &  934.1418\\\\\n",
       "\t⋮ & ⋮ & ⋮ & ⋮ & ⋮ & ⋮ & ⋮\\\\\n",
       "\t67 & Winter & 19 & 304.03333 & 19 & 619 & 303.53292\\\\\n",
       "\t68 & Winter & 15 & 298.64444 &  7 & 621 & 298.14403\\\\\n",
       "\t69 & Winter & 14 & 284.28889 & 17 & 611 & 283.78845\\\\\n",
       "\t70 & Winter & 13 & 275.25556 &  7 & 606 & 274.75510\\\\\n",
       "\t71 & Winter & 12 & 263.63333 &  4 & 479 & 263.13286\\\\\n",
       "\t72 & Spring &  6 & 257.23333 &  5 & 646 & 256.73285\\\\\n",
       "\t73 & Autumn &  3 & 256.55000 & 28 & 514 & 256.04951\\\\\n",
       "\t74 & Winter &  9 & 254.60000 &  3 & 509 & 254.09951\\\\\n",
       "\t75 & Spring &  2 & 252.96667 &  9 & 590 & 252.46617\\\\\n",
       "\t76 & Summer &  5 & 245.93478 & 28 & 383 & 245.43427\\\\\n",
       "\t77 & Winter & 20 & 243.23333 &  8 & 483 & 242.73282\\\\\n",
       "\t78 & Winter & 21 & 240.50000 & 10 & 512 & 239.99948\\\\\n",
       "\t79 & Winter & 11 & 228.32222 &  9 & 388 & 227.82167\\\\\n",
       "\t80 & Winter & 22 & 225.13333 & 13 & 461 & 224.63278\\\\\n",
       "\t81 & Summer &  4 & 223.81522 & 27 & 421 & 223.31466\\\\\n",
       "\t82 & Winter &  7 & 209.56667 &  3 & 498 & 209.06607\\\\\n",
       "\t83 & Winter & 10 & 186.40000 &  4 & 339 & 185.89933\\\\\n",
       "\t84 & Winter & 23 & 173.43333 & 23 & 366 & 172.93261\\\\\n",
       "\t85 & Autumn &  4 & 169.02500 & 24 & 338 & 168.52426\\\\\n",
       "\t86 & Spring &  3 & 168.47778 &  2 & 423 & 167.97703\\\\\n",
       "\t87 & Winter &  0 & 165.17778 & 42 & 342 & 164.67702\\\\\n",
       "\t88 & Autumn &  5 & 163.41250 & 24 & 264 & 162.91173\\\\\n",
       "\t89 & Winter &  1 & 159.05556 & 43 & 337 & 158.55477\\\\\n",
       "\t90 & Winter &  2 & 117.78889 & 38 & 312 & 117.28782\\\\\n",
       "\t91 & Spring &  5 & 116.17778 &  6 & 265 & 115.67670\\\\\n",
       "\t92 & Spring &  4 & 108.22222 &  2 & 252 & 107.72106\\\\\n",
       "\t93 & Winter &  6 &  92.82222 &  9 & 200 &  92.32087\\\\\n",
       "\t94 & Winter &  3 &  77.81111 & 21 & 230 &  77.30949\\\\\n",
       "\t95 & Winter &  5 &  51.22222 & 13 & 100 &  50.71976\\\\\n",
       "\t96 & Winter &  4 &  50.47778 & 20 & 120 &  49.97528\\\\\n",
       "\\end{tabular}\n"
      ],
      "text/markdown": [
       "\n",
       "A data.frame: 96 × 6\n",
       "\n",
       "| <!--/--> | SEASONS &lt;chr&gt; | HOUR &lt;int&gt; | AVG_RENTED &lt;dbl&gt; | MIN_RENTED &lt;int&gt; | MAX_RENTED &lt;int&gt; | STD_BIKE_COUNT &lt;dbl&gt; |\n",
       "|---|---|---|---|---|---|---|\n",
       "| 1 | Summer | 18 | 2135.1413 | 17 | 3556 | 2134.6412 |\n",
       "| 2 | Autumn | 18 | 1983.3333 | 40 | 3298 | 1982.8333 |\n",
       "| 3 | Summer | 19 | 1889.2500 | 18 | 2984 | 1888.7499 |\n",
       "| 4 | Summer | 20 | 1801.9239 | 10 | 2579 | 1801.4238 |\n",
       "| 5 | Summer | 21 | 1754.0652 | 17 | 2505 | 1753.5651 |\n",
       "| 6 | Spring | 18 | 1689.3111 | 22 | 3251 | 1688.8110 |\n",
       "| 7 | Summer | 22 | 1567.8696 | 16 | 2309 | 1567.3695 |\n",
       "| 8 | Autumn | 17 | 1562.8765 | 23 | 2432 | 1562.3765 |\n",
       "| 9 | Summer | 17 | 1526.2935 | 25 | 2664 | 1525.7934 |\n",
       "| 10 | Autumn | 19 | 1515.5679 | 19 | 2518 | 1515.0678 |\n",
       "| 11 | Summer |  8 | 1418.5978 | 20 | 2495 | 1418.0977 |\n",
       "| 12 | Autumn |  8 | 1345.0370 |  6 | 2391 | 1344.5369 |\n",
       "| 13 | Autumn | 20 | 1321.7037 | 12 | 2259 | 1321.2036 |\n",
       "| 14 | Spring | 17 | 1307.9778 | 24 | 2410 | 1307.4777 |\n",
       "| 15 | Autumn | 16 | 1293.2099 | 14 | 2270 | 1292.7098 |\n",
       "| 16 | Autumn | 21 | 1253.8148 | 21 | 2212 | 1253.3147 |\n",
       "| 17 | Spring | 19 | 1247.7111 | 29 | 2656 | 1247.2110 |\n",
       "| 18 | Summer | 16 | 1174.1739 | 41 | 2474 | 1173.6738 |\n",
       "| 19 | Autumn | 15 | 1156.7037 |  8 | 2200 | 1156.2036 |\n",
       "| 20 | Summer | 23 | 1153.9022 | 15 | 1732 | 1153.4021 |\n",
       "| 21 | Autumn | 22 | 1130.2099 | 14 | 1868 | 1129.7098 |\n",
       "| 22 | Spring | 16 | 1101.4556 | 31 | 2479 | 1100.9554 |\n",
       "| 23 | Spring | 20 | 1060.5111 | 12 | 2252 | 1060.0110 |\n",
       "| 24 | Autumn | 14 | 1058.8272 | 17 | 1995 | 1058.3270 |\n",
       "| 25 | Spring |  8 | 1036.3778 | 16 | 2281 | 1035.8777 |\n",
       "| 26 | Spring | 21 | 1021.1222 |  7 | 2140 | 1020.6221 |\n",
       "| 27 | Summer | 15 | 1009.7174 | 51 | 2288 | 1009.2173 |\n",
       "| 28 | Autumn | 13 | 1002.6667 | 18 | 1849 | 1002.1665 |\n",
       "| 29 | Spring | 15 |  990.9778 | 14 | 2329 |  990.4777 |\n",
       "| 30 | Autumn | 12 |  934.6420 | 17 | 1634 |  934.1418 |\n",
       "| ⋮ | ⋮ | ⋮ | ⋮ | ⋮ | ⋮ | ⋮ |\n",
       "| 67 | Winter | 19 | 304.03333 | 19 | 619 | 303.53292 |\n",
       "| 68 | Winter | 15 | 298.64444 |  7 | 621 | 298.14403 |\n",
       "| 69 | Winter | 14 | 284.28889 | 17 | 611 | 283.78845 |\n",
       "| 70 | Winter | 13 | 275.25556 |  7 | 606 | 274.75510 |\n",
       "| 71 | Winter | 12 | 263.63333 |  4 | 479 | 263.13286 |\n",
       "| 72 | Spring |  6 | 257.23333 |  5 | 646 | 256.73285 |\n",
       "| 73 | Autumn |  3 | 256.55000 | 28 | 514 | 256.04951 |\n",
       "| 74 | Winter |  9 | 254.60000 |  3 | 509 | 254.09951 |\n",
       "| 75 | Spring |  2 | 252.96667 |  9 | 590 | 252.46617 |\n",
       "| 76 | Summer |  5 | 245.93478 | 28 | 383 | 245.43427 |\n",
       "| 77 | Winter | 20 | 243.23333 |  8 | 483 | 242.73282 |\n",
       "| 78 | Winter | 21 | 240.50000 | 10 | 512 | 239.99948 |\n",
       "| 79 | Winter | 11 | 228.32222 |  9 | 388 | 227.82167 |\n",
       "| 80 | Winter | 22 | 225.13333 | 13 | 461 | 224.63278 |\n",
       "| 81 | Summer |  4 | 223.81522 | 27 | 421 | 223.31466 |\n",
       "| 82 | Winter |  7 | 209.56667 |  3 | 498 | 209.06607 |\n",
       "| 83 | Winter | 10 | 186.40000 |  4 | 339 | 185.89933 |\n",
       "| 84 | Winter | 23 | 173.43333 | 23 | 366 | 172.93261 |\n",
       "| 85 | Autumn |  4 | 169.02500 | 24 | 338 | 168.52426 |\n",
       "| 86 | Spring |  3 | 168.47778 |  2 | 423 | 167.97703 |\n",
       "| 87 | Winter |  0 | 165.17778 | 42 | 342 | 164.67702 |\n",
       "| 88 | Autumn |  5 | 163.41250 | 24 | 264 | 162.91173 |\n",
       "| 89 | Winter |  1 | 159.05556 | 43 | 337 | 158.55477 |\n",
       "| 90 | Winter |  2 | 117.78889 | 38 | 312 | 117.28782 |\n",
       "| 91 | Spring |  5 | 116.17778 |  6 | 265 | 115.67670 |\n",
       "| 92 | Spring |  4 | 108.22222 |  2 | 252 | 107.72106 |\n",
       "| 93 | Winter |  6 |  92.82222 |  9 | 200 |  92.32087 |\n",
       "| 94 | Winter |  3 |  77.81111 | 21 | 230 |  77.30949 |\n",
       "| 95 | Winter |  5 |  51.22222 | 13 | 100 |  50.71976 |\n",
       "| 96 | Winter |  4 |  50.47778 | 20 | 120 |  49.97528 |\n",
       "\n"
      ],
      "text/plain": [
       "   SEASONS HOUR AVG_RENTED MIN_RENTED MAX_RENTED STD_BIKE_COUNT\n",
       "1  Summer  18   2135.1413  17         3556       2134.6412     \n",
       "2  Autumn  18   1983.3333  40         3298       1982.8333     \n",
       "3  Summer  19   1889.2500  18         2984       1888.7499     \n",
       "4  Summer  20   1801.9239  10         2579       1801.4238     \n",
       "5  Summer  21   1754.0652  17         2505       1753.5651     \n",
       "6  Spring  18   1689.3111  22         3251       1688.8110     \n",
       "7  Summer  22   1567.8696  16         2309       1567.3695     \n",
       "8  Autumn  17   1562.8765  23         2432       1562.3765     \n",
       "9  Summer  17   1526.2935  25         2664       1525.7934     \n",
       "10 Autumn  19   1515.5679  19         2518       1515.0678     \n",
       "11 Summer   8   1418.5978  20         2495       1418.0977     \n",
       "12 Autumn   8   1345.0370   6         2391       1344.5369     \n",
       "13 Autumn  20   1321.7037  12         2259       1321.2036     \n",
       "14 Spring  17   1307.9778  24         2410       1307.4777     \n",
       "15 Autumn  16   1293.2099  14         2270       1292.7098     \n",
       "16 Autumn  21   1253.8148  21         2212       1253.3147     \n",
       "17 Spring  19   1247.7111  29         2656       1247.2110     \n",
       "18 Summer  16   1174.1739  41         2474       1173.6738     \n",
       "19 Autumn  15   1156.7037   8         2200       1156.2036     \n",
       "20 Summer  23   1153.9022  15         1732       1153.4021     \n",
       "21 Autumn  22   1130.2099  14         1868       1129.7098     \n",
       "22 Spring  16   1101.4556  31         2479       1100.9554     \n",
       "23 Spring  20   1060.5111  12         2252       1060.0110     \n",
       "24 Autumn  14   1058.8272  17         1995       1058.3270     \n",
       "25 Spring   8   1036.3778  16         2281       1035.8777     \n",
       "26 Spring  21   1021.1222   7         2140       1020.6221     \n",
       "27 Summer  15   1009.7174  51         2288       1009.2173     \n",
       "28 Autumn  13   1002.6667  18         1849       1002.1665     \n",
       "29 Spring  15    990.9778  14         2329        990.4777     \n",
       "30 Autumn  12    934.6420  17         1634        934.1418     \n",
       "⋮  ⋮       ⋮    ⋮          ⋮          ⋮          ⋮             \n",
       "67 Winter  19   304.03333  19         619        303.53292     \n",
       "68 Winter  15   298.64444   7         621        298.14403     \n",
       "69 Winter  14   284.28889  17         611        283.78845     \n",
       "70 Winter  13   275.25556   7         606        274.75510     \n",
       "71 Winter  12   263.63333   4         479        263.13286     \n",
       "72 Spring   6   257.23333   5         646        256.73285     \n",
       "73 Autumn   3   256.55000  28         514        256.04951     \n",
       "74 Winter   9   254.60000   3         509        254.09951     \n",
       "75 Spring   2   252.96667   9         590        252.46617     \n",
       "76 Summer   5   245.93478  28         383        245.43427     \n",
       "77 Winter  20   243.23333   8         483        242.73282     \n",
       "78 Winter  21   240.50000  10         512        239.99948     \n",
       "79 Winter  11   228.32222   9         388        227.82167     \n",
       "80 Winter  22   225.13333  13         461        224.63278     \n",
       "81 Summer   4   223.81522  27         421        223.31466     \n",
       "82 Winter   7   209.56667   3         498        209.06607     \n",
       "83 Winter  10   186.40000   4         339        185.89933     \n",
       "84 Winter  23   173.43333  23         366        172.93261     \n",
       "85 Autumn   4   169.02500  24         338        168.52426     \n",
       "86 Spring   3   168.47778   2         423        167.97703     \n",
       "87 Winter   0   165.17778  42         342        164.67702     \n",
       "88 Autumn   5   163.41250  24         264        162.91173     \n",
       "89 Winter   1   159.05556  43         337        158.55477     \n",
       "90 Winter   2   117.78889  38         312        117.28782     \n",
       "91 Spring   5   116.17778   6         265        115.67670     \n",
       "92 Spring   4   108.22222   2         252        107.72106     \n",
       "93 Winter   6    92.82222   9         200         92.32087     \n",
       "94 Winter   3    77.81111  21         230         77.30949     \n",
       "95 Winter   5    51.22222  13         100         50.71976     \n",
       "96 Winter   4    50.47778  20         120         49.97528     "
      ]
     },
     "metadata": {},
     "output_type": "display_data"
    }
   ],
   "source": [
    "# provide your solution here\n",
    "sql <- \"SELECT SEASONS, HOUR\n",
    "            ,AVG(RENTED_BIKE_COUNT) AS AVG_RENTED \n",
    "            ,MIN(RENTED_BIKE_COUNT) AS MIN_RENTED\n",
    "            ,MAX(RENTED_BIKE_COUNT) AS MAX_RENTED\n",
    "        FROM SEOUL_BIKE_SHARING GROUP BY SEASONS, HOUR\n",
    "        ORDER BY AVG_RENTED DESC\"\n",
    "result <- dbGetQuery(con, sql)\n",
    "result$STD_BIKE_COUNT <- sqrt(result$AVG_RENTED * result$AVG_RENTED - result$AVG_RENTED)\n",
    "result"
   ]
  },
  {
   "cell_type": "markdown",
   "metadata": {},
   "source": [
    "Let's explore a bit and see what might be the most significant contributing factors in terms of the provided data.\n"
   ]
  },
  {
   "cell_type": "markdown",
   "metadata": {},
   "source": [
    "## Task 9 - Weather Seasonality\n",
    "#### Consider the weather over each season. On average, what were the TEMPERATURE, HUMIDITY, WIND_SPEED, VISIBILITY, DEW_POINT_TEMPERATURE, SOLAR_RADIATION, RAINFALL, and SNOWFALL per season?\n",
    "Include the average bike count as well , and rank the results by average bike count so you can see if it is correlated with the weather at all. \n"
   ]
  },
  {
   "cell_type": "markdown",
   "metadata": {},
   "source": [
    "### Solution 9\n"
   ]
  },
  {
   "cell_type": "code",
   "execution_count": 54,
   "metadata": {
    "tags": []
   },
   "outputs": [
    {
     "data": {
      "text/html": [
       "<table>\n",
       "<caption>A data.frame: 96 × 11</caption>\n",
       "<thead>\n",
       "\t<tr><th></th><th scope=col>SEASONS</th><th scope=col>HOUR</th><th scope=col>AVG_RENTED</th><th scope=col>AVG_TEMP</th><th scope=col>AVG_HUMI</th><th scope=col>AVG_WIND_SPEED</th><th scope=col>AVG_VISIBILITY</th><th scope=col>AVG_DEW_POINT_TEMPERATURE</th><th scope=col>AVG_SOLAR_RADIATION</th><th scope=col>AVG_RAINFALL</th><th scope=col>AVG_SNOWFALL</th></tr>\n",
       "\t<tr><th></th><th scope=col>&lt;chr&gt;</th><th scope=col>&lt;int&gt;</th><th scope=col>&lt;dbl&gt;</th><th scope=col>&lt;dbl&gt;</th><th scope=col>&lt;dbl&gt;</th><th scope=col>&lt;dbl&gt;</th><th scope=col>&lt;dbl&gt;</th><th scope=col>&lt;dbl&gt;</th><th scope=col>&lt;dbl&gt;</th><th scope=col>&lt;dbl&gt;</th><th scope=col>&lt;dbl&gt;</th></tr>\n",
       "</thead>\n",
       "<tbody>\n",
       "\t<tr><th scope=row>1</th><td>Summer</td><td>18</td><td>2135.1413</td><td>29.38791</td><td>56.46739</td><td>2.232609</td><td>1669.641</td><td>19.040217</td><td>0.764239130</td><td>0.53369565</td><td>0.00000000</td></tr>\n",
       "\t<tr><th scope=row>2</th><td>Autumn</td><td>18</td><td>1983.3333</td><td>16.03185</td><td>51.93827</td><td>1.776543</td><td>1671.000</td><td> 5.579012</td><td>0.159012346</td><td>0.28395062</td><td>0.04814815</td></tr>\n",
       "\t<tr><th scope=row>3</th><td>Summer</td><td>19</td><td>1889.2500</td><td>28.27378</td><td>60.53261</td><td>2.038043</td><td>1683.370</td><td>19.280435</td><td>0.338043478</td><td>0.32608696</td><td>0.00000000</td></tr>\n",
       "\t<tr><th scope=row>4</th><td>Summer</td><td>20</td><td>1801.9239</td><td>27.06630</td><td>64.50000</td><td>1.870652</td><td>1646.076</td><td>19.305435</td><td>0.045652174</td><td>0.78804348</td><td>0.00000000</td></tr>\n",
       "\t<tr><th scope=row>5</th><td>Summer</td><td>21</td><td>1754.0652</td><td>26.27826</td><td>67.42391</td><td>1.646739</td><td>1613.554</td><td>19.348913</td><td>0.000000000</td><td>0.46413043</td><td>0.00000000</td></tr>\n",
       "\t<tr><th scope=row>6</th><td>Spring</td><td>18</td><td>1689.3111</td><td>15.97222</td><td>49.98889</td><td>2.570000</td><td>1398.944</td><td> 4.284444</td><td>0.572000000</td><td>0.09888889</td><td>0.00000000</td></tr>\n",
       "\t<tr><th scope=row>7</th><td>Summer</td><td>22</td><td>1567.8696</td><td>25.69891</td><td>69.30435</td><td>1.501087</td><td>1580.065</td><td>19.259783</td><td>0.000000000</td><td>0.15543478</td><td>0.00000000</td></tr>\n",
       "\t<tr><th scope=row>8</th><td>Autumn</td><td>17</td><td>1562.8765</td><td>17.27778</td><td>47.16049</td><td>2.095062</td><td>1670.420</td><td> 5.027160</td><td>0.544567901</td><td>0.25925926</td><td>0.04814815</td></tr>\n",
       "\t<tr><th scope=row>9</th><td>Summer</td><td>17</td><td>1526.2935</td><td>30.07691</td><td>53.82609</td><td>2.440217</td><td>1637.239</td><td>18.835870</td><td>1.229565217</td><td>0.15760870</td><td>0.00000000</td></tr>\n",
       "\t<tr><th scope=row>10</th><td>Autumn</td><td>19</td><td>1515.5679</td><td>15.06346</td><td>55.46914</td><td>1.760494</td><td>1659.827</td><td> 5.725926</td><td>0.014197531</td><td>0.03086420</td><td>0.04567901</td></tr>\n",
       "\t<tr><th scope=row>11</th><td>Summer</td><td> 8</td><td>1418.5978</td><td>24.53587</td><td>69.67391</td><td>1.179348</td><td>1364.348</td><td>18.271739</td><td>0.691086957</td><td>0.22173913</td><td>0.00000000</td></tr>\n",
       "\t<tr><th scope=row>12</th><td>Autumn</td><td> 8</td><td>1345.0370</td><td>10.55679</td><td>70.18519</td><td>1.204938</td><td>1379.432</td><td> 5.065432</td><td>0.245308642</td><td>0.17654321</td><td>0.08395062</td></tr>\n",
       "\t<tr><th scope=row>13</th><td>Autumn</td><td>20</td><td>1321.7037</td><td>14.32469</td><td>57.46914</td><td>1.696296</td><td>1645.284</td><td> 5.603704</td><td>0.000000000</td><td>0.01851852</td><td>0.04567901</td></tr>\n",
       "\t<tr><th scope=row>14</th><td>Spring</td><td>17</td><td>1307.9778</td><td>16.87889</td><td>47.34444</td><td>2.716667</td><td>1390.033</td><td> 4.183333</td><td>1.069555556</td><td>0.09000000</td><td>0.00000000</td></tr>\n",
       "\t<tr><th scope=row>15</th><td>Autumn</td><td>16</td><td>1293.2099</td><td>18.08123</td><td>44.11111</td><td>2.091358</td><td>1642.864</td><td> 4.629630</td><td>1.013950617</td><td>0.11728395</td><td>0.05432099</td></tr>\n",
       "\t<tr><th scope=row>16</th><td>Autumn</td><td>21</td><td>1253.8148</td><td>13.69012</td><td>59.19753</td><td>1.535802</td><td>1624.778</td><td> 5.432099</td><td>0.000000000</td><td>0.24691358</td><td>0.04444444</td></tr>\n",
       "\t<tr><th scope=row>17</th><td>Spring</td><td>19</td><td>1247.7111</td><td>14.67667</td><td>54.56667</td><td>2.395556</td><td>1381.822</td><td> 4.452222</td><td>0.163444444</td><td>0.08888889</td><td>0.00000000</td></tr>\n",
       "\t<tr><th scope=row>18</th><td>Summer</td><td>16</td><td>1174.1739</td><td>30.48804</td><td>51.77174</td><td>2.413043</td><td>1620.707</td><td>18.611957</td><td>1.649565217</td><td>0.06086957</td><td>0.00000000</td></tr>\n",
       "\t<tr><th scope=row>19</th><td>Autumn</td><td>15</td><td>1156.7037</td><td>18.34321</td><td>42.85185</td><td>2.193827</td><td>1656.235</td><td> 4.386420</td><td>1.452098765</td><td>0.18518519</td><td>0.06419753</td></tr>\n",
       "\t<tr><th scope=row>20</th><td>Summer</td><td>23</td><td>1153.9022</td><td>25.23139</td><td>70.88043</td><td>1.355435</td><td>1502.467</td><td>19.191304</td><td>0.000000000</td><td>0.19021739</td><td>0.00000000</td></tr>\n",
       "\t<tr><th scope=row>21</th><td>Autumn</td><td>22</td><td>1130.2099</td><td>13.09012</td><td>61.09877</td><td>1.287654</td><td>1621.975</td><td> 5.382716</td><td>0.000000000</td><td>0.02469136</td><td>0.04444444</td></tr>\n",
       "\t<tr><th scope=row>22</th><td>Spring</td><td>16</td><td>1101.4556</td><td>17.35889</td><td>45.34444</td><td>2.806667</td><td>1396.122</td><td> 3.923333</td><td>1.485666667</td><td>0.04888889</td><td>0.00000000</td></tr>\n",
       "\t<tr><th scope=row>23</th><td>Spring</td><td>20</td><td>1060.5111</td><td>13.57533</td><td>58.03333</td><td>2.242222</td><td>1322.967</td><td> 4.614444</td><td>0.008222222</td><td>0.20555556</td><td>0.00000000</td></tr>\n",
       "\t<tr><th scope=row>24</th><td>Autumn</td><td>14</td><td>1058.8272</td><td>18.15185</td><td>42.83951</td><td>2.111111</td><td>1637.568</td><td> 4.183951</td><td>1.761481481</td><td>0.11111111</td><td>0.07777778</td></tr>\n",
       "\t<tr><th scope=row>25</th><td>Spring</td><td> 8</td><td>1036.3778</td><td>10.30867</td><td>66.32222</td><td>1.306667</td><td>1139.100</td><td> 3.730000</td><td>0.451777778</td><td>0.27222222</td><td>0.00000000</td></tr>\n",
       "\t<tr><th scope=row>26</th><td>Spring</td><td>21</td><td>1021.1222</td><td>12.83778</td><td>60.88889</td><td>1.890000</td><td>1268.100</td><td> 4.678889</td><td>0.000000000</td><td>0.16111111</td><td>0.00000000</td></tr>\n",
       "\t<tr><th scope=row>27</th><td>Summer</td><td>15</td><td>1009.7174</td><td>30.49022</td><td>51.41304</td><td>2.264130</td><td>1582.543</td><td>18.422826</td><td>1.969130435</td><td>0.19891304</td><td>0.00000000</td></tr>\n",
       "\t<tr><th scope=row>28</th><td>Autumn</td><td>13</td><td>1002.6667</td><td>17.55802</td><td>45.62963</td><td>2.144444</td><td>1607.420</td><td> 4.644444</td><td>1.862839506</td><td>0.07407407</td><td>0.09629630</td></tr>\n",
       "\t<tr><th scope=row>29</th><td>Spring</td><td>15</td><td> 990.9778</td><td>17.51111</td><td>44.44444</td><td>2.744444</td><td>1383.400</td><td> 3.778889</td><td>1.841000000</td><td>0.07555556</td><td>0.00000000</td></tr>\n",
       "\t<tr><th scope=row>30</th><td>Autumn</td><td>12</td><td> 934.6420</td><td>16.73951</td><td>48.11111</td><td>1.808642</td><td>1581.815</td><td> 4.806173</td><td>1.826296296</td><td>0.20740741</td><td>0.11358025</td></tr>\n",
       "\t<tr><th scope=row>⋮</th><td>⋮</td><td>⋮</td><td>⋮</td><td>⋮</td><td>⋮</td><td>⋮</td><td>⋮</td><td>⋮</td><td>⋮</td><td>⋮</td><td>⋮</td></tr>\n",
       "\t<tr><th scope=row>67</th><td>Winter</td><td>19</td><td>304.03333</td><td>-1.5166667</td><td>48.00000</td><td>2.0788889</td><td>1499.711</td><td>-11.834444</td><td>0.0003333333</td><td>0.00000000</td><td>0.1911111</td></tr>\n",
       "\t<tr><th scope=row>68</th><td>Winter</td><td>15</td><td>298.64444</td><td> 1.1666667</td><td>35.65556</td><td>2.7222222</td><td>1541.322</td><td>-13.292222</td><td>0.9603333333</td><td>0.08888889</td><td>0.1555556</td></tr>\n",
       "\t<tr><th scope=row>69</th><td>Winter</td><td>14</td><td>284.28889</td><td> 0.8711111</td><td>36.01111</td><td>2.5455556</td><td>1509.700</td><td>-13.505556</td><td>1.1486666667</td><td>0.00000000</td><td>0.1944444</td></tr>\n",
       "\t<tr><th scope=row>70</th><td>Winter</td><td>13</td><td>275.25556</td><td> 0.2166667</td><td>37.05556</td><td>2.5155556</td><td>1489.122</td><td>-13.623333</td><td>1.1954444444</td><td>0.00000000</td><td>0.2433333</td></tr>\n",
       "\t<tr><th scope=row>71</th><td>Winter</td><td>12</td><td>263.63333</td><td>-0.5666667</td><td>39.50000</td><td>2.1933333</td><td>1440.500</td><td>-13.474444</td><td>1.1133333333</td><td>0.12000000</td><td>0.2911111</td></tr>\n",
       "\t<tr><th scope=row>72</th><td>Spring</td><td> 6</td><td>257.23333</td><td> 9.2655556</td><td>70.65556</td><td>1.0722222</td><td>1078.056</td><td>  4.241111</td><td>0.0074444444</td><td>0.31333333</td><td>0.0000000</td></tr>\n",
       "\t<tr><th scope=row>73</th><td>Autumn</td><td> 3</td><td>256.55000</td><td>11.0987500</td><td>69.71250</td><td>0.9200000</td><td>1511.412</td><td>  5.477500</td><td>0.0000000000</td><td>0.07750000</td><td>0.0387500</td></tr>\n",
       "\t<tr><th scope=row>74</th><td>Winter</td><td> 9</td><td>254.60000</td><td>-4.8022222</td><td>53.44444</td><td>1.6500000</td><td>1363.044</td><td>-13.323333</td><td>0.2166666667</td><td>0.13888889</td><td>0.3533333</td></tr>\n",
       "\t<tr><th scope=row>75</th><td>Spring</td><td> 2</td><td>252.96667</td><td>10.2686667</td><td>68.48889</td><td>1.2922222</td><td>1105.689</td><td>  4.172222</td><td>0.0000000000</td><td>0.12555556</td><td>0.0000000</td></tr>\n",
       "\t<tr><th scope=row>76</th><td>Summer</td><td> 5</td><td>245.93478</td><td>23.2630435</td><td>77.83696</td><td>0.9304348</td><td>1352.413</td><td> 18.940217</td><td>0.0000000000</td><td>0.09565217</td><td>0.0000000</td></tr>\n",
       "\t<tr><th scope=row>77</th><td>Winter</td><td>20</td><td>243.23333</td><td>-2.0222222</td><td>50.31111</td><td>1.9200000</td><td>1497.578</td><td>-11.623333</td><td>0.0000000000</td><td>0.00000000</td><td>0.2022222</td></tr>\n",
       "\t<tr><th scope=row>78</th><td>Winter</td><td>21</td><td>240.50000</td><td>-2.4366667</td><td>52.44444</td><td>1.9111111</td><td>1486.122</td><td>-11.361111</td><td>0.0000000000</td><td>0.13777778</td><td>0.2033333</td></tr>\n",
       "\t<tr><th scope=row>79</th><td>Winter</td><td>11</td><td>228.32222</td><td>-1.8433333</td><td>42.84444</td><td>2.0811111</td><td>1398.956</td><td>-13.586667</td><td>0.8882222222</td><td>0.00000000</td><td>0.3300000</td></tr>\n",
       "\t<tr><th scope=row>80</th><td>Winter</td><td>22</td><td>225.13333</td><td>-2.8233333</td><td>54.16667</td><td>1.8177778</td><td>1449.289</td><td>-11.222222</td><td>0.0000000000</td><td>0.00000000</td><td>0.2022222</td></tr>\n",
       "\t<tr><th scope=row>81</th><td>Summer</td><td> 4</td><td>223.81522</td><td>23.5313882</td><td>76.59783</td><td>1.0706522</td><td>1347.163</td><td> 18.894565</td><td>0.0000000000</td><td>0.21739130</td><td>0.0000000</td></tr>\n",
       "\t<tr><th scope=row>82</th><td>Winter</td><td> 7</td><td>209.56667</td><td>-5.2488889</td><td>58.98889</td><td>1.4911111</td><td>1382.500</td><td>-12.423333</td><td>0.0000000000</td><td>0.00000000</td><td>0.3311111</td></tr>\n",
       "\t<tr><th scope=row>83</th><td>Winter</td><td>10</td><td>186.40000</td><td>-3.3144444</td><td>47.62222</td><td>1.8877778</td><td>1374.444</td><td>-13.513333</td><td>0.5985555556</td><td>0.00000000</td><td>0.3533333</td></tr>\n",
       "\t<tr><th scope=row>84</th><td>Winter</td><td>23</td><td>173.43333</td><td>-3.1733333</td><td>55.25556</td><td>1.7000000</td><td>1417.067</td><td>-11.271111</td><td>0.0000000000</td><td>0.00000000</td><td>0.2033333</td></tr>\n",
       "\t<tr><th scope=row>85</th><td>Autumn</td><td> 4</td><td>169.02500</td><td>10.8037500</td><td>70.80000</td><td>0.9862500</td><td>1484.412</td><td>  5.378750</td><td>0.0000000000</td><td>0.03625000</td><td>0.0362500</td></tr>\n",
       "\t<tr><th scope=row>86</th><td>Spring</td><td> 3</td><td>168.47778</td><td> 9.9622222</td><td>69.15556</td><td>1.1922222</td><td>1069.011</td><td>  4.341111</td><td>0.0000000000</td><td>0.26333333</td><td>0.0000000</td></tr>\n",
       "\t<tr><th scope=row>87</th><td>Winter</td><td> 0</td><td>165.17778</td><td>-3.6100000</td><td>55.91111</td><td>1.6544444</td><td>1401.689</td><td>-11.535556</td><td>0.0000000000</td><td>0.01333333</td><td>0.2133333</td></tr>\n",
       "\t<tr><th scope=row>88</th><td>Autumn</td><td> 5</td><td>163.41250</td><td>10.5075000</td><td>72.23750</td><td>0.8962500</td><td>1486.388</td><td>  5.417500</td><td>0.0000000000</td><td>0.08750000</td><td>0.0350000</td></tr>\n",
       "\t<tr><th scope=row>89</th><td>Winter</td><td> 1</td><td>159.05556</td><td>-3.8911111</td><td>56.65556</td><td>1.5077778</td><td>1421.678</td><td>-11.616667</td><td>0.0000000000</td><td>0.00000000</td><td>0.2633333</td></tr>\n",
       "\t<tr><th scope=row>90</th><td>Winter</td><td> 2</td><td>117.78889</td><td>-4.1744444</td><td>57.33333</td><td>1.4444444</td><td>1431.011</td><td>-11.744444</td><td>0.0000000000</td><td>0.00000000</td><td>0.2744444</td></tr>\n",
       "\t<tr><th scope=row>91</th><td>Spring</td><td> 5</td><td>116.17778</td><td> 9.4533333</td><td>69.57778</td><td>1.1888889</td><td>1099.578</td><td>  4.306667</td><td>0.0000000000</td><td>0.10000000</td><td>0.0000000</td></tr>\n",
       "\t<tr><th scope=row>92</th><td>Spring</td><td> 4</td><td>108.22222</td><td> 9.6944444</td><td>69.51111</td><td>1.2088889</td><td>1105.956</td><td>  4.334444</td><td>0.0000000000</td><td>0.34888889</td><td>0.0000000</td></tr>\n",
       "\t<tr><th scope=row>93</th><td>Winter</td><td> 6</td><td> 92.82222</td><td>-5.0311111</td><td>58.27778</td><td>1.5244444</td><td>1394.511</td><td>-12.396667</td><td>0.0000000000</td><td>0.05000000</td><td>0.3144444</td></tr>\n",
       "\t<tr><th scope=row>94</th><td>Winter</td><td> 3</td><td> 77.81111</td><td>-4.3633333</td><td>57.05556</td><td>1.4955556</td><td>1431.100</td><td>-12.014444</td><td>0.0000000000</td><td>0.06777778</td><td>0.2766667</td></tr>\n",
       "\t<tr><th scope=row>95</th><td>Winter</td><td> 5</td><td> 51.22222</td><td>-4.8033333</td><td>57.58889</td><td>1.5033333</td><td>1412.933</td><td>-12.304444</td><td>0.0000000000</td><td>0.00000000</td><td>0.2866667</td></tr>\n",
       "\t<tr><th scope=row>96</th><td>Winter</td><td> 4</td><td> 50.47778</td><td>-4.5644444</td><td>57.11111</td><td>1.5877778</td><td>1418.722</td><td>-12.211111</td><td>0.0000000000</td><td>0.00000000</td><td>0.2777778</td></tr>\n",
       "</tbody>\n",
       "</table>\n"
      ],
      "text/latex": [
       "A data.frame: 96 × 11\n",
       "\\begin{tabular}{r|lllllllllll}\n",
       "  & SEASONS & HOUR & AVG\\_RENTED & AVG\\_TEMP & AVG\\_HUMI & AVG\\_WIND\\_SPEED & AVG\\_VISIBILITY & AVG\\_DEW\\_POINT\\_TEMPERATURE & AVG\\_SOLAR\\_RADIATION & AVG\\_RAINFALL & AVG\\_SNOWFALL\\\\\n",
       "  & <chr> & <int> & <dbl> & <dbl> & <dbl> & <dbl> & <dbl> & <dbl> & <dbl> & <dbl> & <dbl>\\\\\n",
       "\\hline\n",
       "\t1 & Summer & 18 & 2135.1413 & 29.38791 & 56.46739 & 2.232609 & 1669.641 & 19.040217 & 0.764239130 & 0.53369565 & 0.00000000\\\\\n",
       "\t2 & Autumn & 18 & 1983.3333 & 16.03185 & 51.93827 & 1.776543 & 1671.000 &  5.579012 & 0.159012346 & 0.28395062 & 0.04814815\\\\\n",
       "\t3 & Summer & 19 & 1889.2500 & 28.27378 & 60.53261 & 2.038043 & 1683.370 & 19.280435 & 0.338043478 & 0.32608696 & 0.00000000\\\\\n",
       "\t4 & Summer & 20 & 1801.9239 & 27.06630 & 64.50000 & 1.870652 & 1646.076 & 19.305435 & 0.045652174 & 0.78804348 & 0.00000000\\\\\n",
       "\t5 & Summer & 21 & 1754.0652 & 26.27826 & 67.42391 & 1.646739 & 1613.554 & 19.348913 & 0.000000000 & 0.46413043 & 0.00000000\\\\\n",
       "\t6 & Spring & 18 & 1689.3111 & 15.97222 & 49.98889 & 2.570000 & 1398.944 &  4.284444 & 0.572000000 & 0.09888889 & 0.00000000\\\\\n",
       "\t7 & Summer & 22 & 1567.8696 & 25.69891 & 69.30435 & 1.501087 & 1580.065 & 19.259783 & 0.000000000 & 0.15543478 & 0.00000000\\\\\n",
       "\t8 & Autumn & 17 & 1562.8765 & 17.27778 & 47.16049 & 2.095062 & 1670.420 &  5.027160 & 0.544567901 & 0.25925926 & 0.04814815\\\\\n",
       "\t9 & Summer & 17 & 1526.2935 & 30.07691 & 53.82609 & 2.440217 & 1637.239 & 18.835870 & 1.229565217 & 0.15760870 & 0.00000000\\\\\n",
       "\t10 & Autumn & 19 & 1515.5679 & 15.06346 & 55.46914 & 1.760494 & 1659.827 &  5.725926 & 0.014197531 & 0.03086420 & 0.04567901\\\\\n",
       "\t11 & Summer &  8 & 1418.5978 & 24.53587 & 69.67391 & 1.179348 & 1364.348 & 18.271739 & 0.691086957 & 0.22173913 & 0.00000000\\\\\n",
       "\t12 & Autumn &  8 & 1345.0370 & 10.55679 & 70.18519 & 1.204938 & 1379.432 &  5.065432 & 0.245308642 & 0.17654321 & 0.08395062\\\\\n",
       "\t13 & Autumn & 20 & 1321.7037 & 14.32469 & 57.46914 & 1.696296 & 1645.284 &  5.603704 & 0.000000000 & 0.01851852 & 0.04567901\\\\\n",
       "\t14 & Spring & 17 & 1307.9778 & 16.87889 & 47.34444 & 2.716667 & 1390.033 &  4.183333 & 1.069555556 & 0.09000000 & 0.00000000\\\\\n",
       "\t15 & Autumn & 16 & 1293.2099 & 18.08123 & 44.11111 & 2.091358 & 1642.864 &  4.629630 & 1.013950617 & 0.11728395 & 0.05432099\\\\\n",
       "\t16 & Autumn & 21 & 1253.8148 & 13.69012 & 59.19753 & 1.535802 & 1624.778 &  5.432099 & 0.000000000 & 0.24691358 & 0.04444444\\\\\n",
       "\t17 & Spring & 19 & 1247.7111 & 14.67667 & 54.56667 & 2.395556 & 1381.822 &  4.452222 & 0.163444444 & 0.08888889 & 0.00000000\\\\\n",
       "\t18 & Summer & 16 & 1174.1739 & 30.48804 & 51.77174 & 2.413043 & 1620.707 & 18.611957 & 1.649565217 & 0.06086957 & 0.00000000\\\\\n",
       "\t19 & Autumn & 15 & 1156.7037 & 18.34321 & 42.85185 & 2.193827 & 1656.235 &  4.386420 & 1.452098765 & 0.18518519 & 0.06419753\\\\\n",
       "\t20 & Summer & 23 & 1153.9022 & 25.23139 & 70.88043 & 1.355435 & 1502.467 & 19.191304 & 0.000000000 & 0.19021739 & 0.00000000\\\\\n",
       "\t21 & Autumn & 22 & 1130.2099 & 13.09012 & 61.09877 & 1.287654 & 1621.975 &  5.382716 & 0.000000000 & 0.02469136 & 0.04444444\\\\\n",
       "\t22 & Spring & 16 & 1101.4556 & 17.35889 & 45.34444 & 2.806667 & 1396.122 &  3.923333 & 1.485666667 & 0.04888889 & 0.00000000\\\\\n",
       "\t23 & Spring & 20 & 1060.5111 & 13.57533 & 58.03333 & 2.242222 & 1322.967 &  4.614444 & 0.008222222 & 0.20555556 & 0.00000000\\\\\n",
       "\t24 & Autumn & 14 & 1058.8272 & 18.15185 & 42.83951 & 2.111111 & 1637.568 &  4.183951 & 1.761481481 & 0.11111111 & 0.07777778\\\\\n",
       "\t25 & Spring &  8 & 1036.3778 & 10.30867 & 66.32222 & 1.306667 & 1139.100 &  3.730000 & 0.451777778 & 0.27222222 & 0.00000000\\\\\n",
       "\t26 & Spring & 21 & 1021.1222 & 12.83778 & 60.88889 & 1.890000 & 1268.100 &  4.678889 & 0.000000000 & 0.16111111 & 0.00000000\\\\\n",
       "\t27 & Summer & 15 & 1009.7174 & 30.49022 & 51.41304 & 2.264130 & 1582.543 & 18.422826 & 1.969130435 & 0.19891304 & 0.00000000\\\\\n",
       "\t28 & Autumn & 13 & 1002.6667 & 17.55802 & 45.62963 & 2.144444 & 1607.420 &  4.644444 & 1.862839506 & 0.07407407 & 0.09629630\\\\\n",
       "\t29 & Spring & 15 &  990.9778 & 17.51111 & 44.44444 & 2.744444 & 1383.400 &  3.778889 & 1.841000000 & 0.07555556 & 0.00000000\\\\\n",
       "\t30 & Autumn & 12 &  934.6420 & 16.73951 & 48.11111 & 1.808642 & 1581.815 &  4.806173 & 1.826296296 & 0.20740741 & 0.11358025\\\\\n",
       "\t⋮ & ⋮ & ⋮ & ⋮ & ⋮ & ⋮ & ⋮ & ⋮ & ⋮ & ⋮ & ⋮ & ⋮\\\\\n",
       "\t67 & Winter & 19 & 304.03333 & -1.5166667 & 48.00000 & 2.0788889 & 1499.711 & -11.834444 & 0.0003333333 & 0.00000000 & 0.1911111\\\\\n",
       "\t68 & Winter & 15 & 298.64444 &  1.1666667 & 35.65556 & 2.7222222 & 1541.322 & -13.292222 & 0.9603333333 & 0.08888889 & 0.1555556\\\\\n",
       "\t69 & Winter & 14 & 284.28889 &  0.8711111 & 36.01111 & 2.5455556 & 1509.700 & -13.505556 & 1.1486666667 & 0.00000000 & 0.1944444\\\\\n",
       "\t70 & Winter & 13 & 275.25556 &  0.2166667 & 37.05556 & 2.5155556 & 1489.122 & -13.623333 & 1.1954444444 & 0.00000000 & 0.2433333\\\\\n",
       "\t71 & Winter & 12 & 263.63333 & -0.5666667 & 39.50000 & 2.1933333 & 1440.500 & -13.474444 & 1.1133333333 & 0.12000000 & 0.2911111\\\\\n",
       "\t72 & Spring &  6 & 257.23333 &  9.2655556 & 70.65556 & 1.0722222 & 1078.056 &   4.241111 & 0.0074444444 & 0.31333333 & 0.0000000\\\\\n",
       "\t73 & Autumn &  3 & 256.55000 & 11.0987500 & 69.71250 & 0.9200000 & 1511.412 &   5.477500 & 0.0000000000 & 0.07750000 & 0.0387500\\\\\n",
       "\t74 & Winter &  9 & 254.60000 & -4.8022222 & 53.44444 & 1.6500000 & 1363.044 & -13.323333 & 0.2166666667 & 0.13888889 & 0.3533333\\\\\n",
       "\t75 & Spring &  2 & 252.96667 & 10.2686667 & 68.48889 & 1.2922222 & 1105.689 &   4.172222 & 0.0000000000 & 0.12555556 & 0.0000000\\\\\n",
       "\t76 & Summer &  5 & 245.93478 & 23.2630435 & 77.83696 & 0.9304348 & 1352.413 &  18.940217 & 0.0000000000 & 0.09565217 & 0.0000000\\\\\n",
       "\t77 & Winter & 20 & 243.23333 & -2.0222222 & 50.31111 & 1.9200000 & 1497.578 & -11.623333 & 0.0000000000 & 0.00000000 & 0.2022222\\\\\n",
       "\t78 & Winter & 21 & 240.50000 & -2.4366667 & 52.44444 & 1.9111111 & 1486.122 & -11.361111 & 0.0000000000 & 0.13777778 & 0.2033333\\\\\n",
       "\t79 & Winter & 11 & 228.32222 & -1.8433333 & 42.84444 & 2.0811111 & 1398.956 & -13.586667 & 0.8882222222 & 0.00000000 & 0.3300000\\\\\n",
       "\t80 & Winter & 22 & 225.13333 & -2.8233333 & 54.16667 & 1.8177778 & 1449.289 & -11.222222 & 0.0000000000 & 0.00000000 & 0.2022222\\\\\n",
       "\t81 & Summer &  4 & 223.81522 & 23.5313882 & 76.59783 & 1.0706522 & 1347.163 &  18.894565 & 0.0000000000 & 0.21739130 & 0.0000000\\\\\n",
       "\t82 & Winter &  7 & 209.56667 & -5.2488889 & 58.98889 & 1.4911111 & 1382.500 & -12.423333 & 0.0000000000 & 0.00000000 & 0.3311111\\\\\n",
       "\t83 & Winter & 10 & 186.40000 & -3.3144444 & 47.62222 & 1.8877778 & 1374.444 & -13.513333 & 0.5985555556 & 0.00000000 & 0.3533333\\\\\n",
       "\t84 & Winter & 23 & 173.43333 & -3.1733333 & 55.25556 & 1.7000000 & 1417.067 & -11.271111 & 0.0000000000 & 0.00000000 & 0.2033333\\\\\n",
       "\t85 & Autumn &  4 & 169.02500 & 10.8037500 & 70.80000 & 0.9862500 & 1484.412 &   5.378750 & 0.0000000000 & 0.03625000 & 0.0362500\\\\\n",
       "\t86 & Spring &  3 & 168.47778 &  9.9622222 & 69.15556 & 1.1922222 & 1069.011 &   4.341111 & 0.0000000000 & 0.26333333 & 0.0000000\\\\\n",
       "\t87 & Winter &  0 & 165.17778 & -3.6100000 & 55.91111 & 1.6544444 & 1401.689 & -11.535556 & 0.0000000000 & 0.01333333 & 0.2133333\\\\\n",
       "\t88 & Autumn &  5 & 163.41250 & 10.5075000 & 72.23750 & 0.8962500 & 1486.388 &   5.417500 & 0.0000000000 & 0.08750000 & 0.0350000\\\\\n",
       "\t89 & Winter &  1 & 159.05556 & -3.8911111 & 56.65556 & 1.5077778 & 1421.678 & -11.616667 & 0.0000000000 & 0.00000000 & 0.2633333\\\\\n",
       "\t90 & Winter &  2 & 117.78889 & -4.1744444 & 57.33333 & 1.4444444 & 1431.011 & -11.744444 & 0.0000000000 & 0.00000000 & 0.2744444\\\\\n",
       "\t91 & Spring &  5 & 116.17778 &  9.4533333 & 69.57778 & 1.1888889 & 1099.578 &   4.306667 & 0.0000000000 & 0.10000000 & 0.0000000\\\\\n",
       "\t92 & Spring &  4 & 108.22222 &  9.6944444 & 69.51111 & 1.2088889 & 1105.956 &   4.334444 & 0.0000000000 & 0.34888889 & 0.0000000\\\\\n",
       "\t93 & Winter &  6 &  92.82222 & -5.0311111 & 58.27778 & 1.5244444 & 1394.511 & -12.396667 & 0.0000000000 & 0.05000000 & 0.3144444\\\\\n",
       "\t94 & Winter &  3 &  77.81111 & -4.3633333 & 57.05556 & 1.4955556 & 1431.100 & -12.014444 & 0.0000000000 & 0.06777778 & 0.2766667\\\\\n",
       "\t95 & Winter &  5 &  51.22222 & -4.8033333 & 57.58889 & 1.5033333 & 1412.933 & -12.304444 & 0.0000000000 & 0.00000000 & 0.2866667\\\\\n",
       "\t96 & Winter &  4 &  50.47778 & -4.5644444 & 57.11111 & 1.5877778 & 1418.722 & -12.211111 & 0.0000000000 & 0.00000000 & 0.2777778\\\\\n",
       "\\end{tabular}\n"
      ],
      "text/markdown": [
       "\n",
       "A data.frame: 96 × 11\n",
       "\n",
       "| <!--/--> | SEASONS &lt;chr&gt; | HOUR &lt;int&gt; | AVG_RENTED &lt;dbl&gt; | AVG_TEMP &lt;dbl&gt; | AVG_HUMI &lt;dbl&gt; | AVG_WIND_SPEED &lt;dbl&gt; | AVG_VISIBILITY &lt;dbl&gt; | AVG_DEW_POINT_TEMPERATURE &lt;dbl&gt; | AVG_SOLAR_RADIATION &lt;dbl&gt; | AVG_RAINFALL &lt;dbl&gt; | AVG_SNOWFALL &lt;dbl&gt; |\n",
       "|---|---|---|---|---|---|---|---|---|---|---|---|\n",
       "| 1 | Summer | 18 | 2135.1413 | 29.38791 | 56.46739 | 2.232609 | 1669.641 | 19.040217 | 0.764239130 | 0.53369565 | 0.00000000 |\n",
       "| 2 | Autumn | 18 | 1983.3333 | 16.03185 | 51.93827 | 1.776543 | 1671.000 |  5.579012 | 0.159012346 | 0.28395062 | 0.04814815 |\n",
       "| 3 | Summer | 19 | 1889.2500 | 28.27378 | 60.53261 | 2.038043 | 1683.370 | 19.280435 | 0.338043478 | 0.32608696 | 0.00000000 |\n",
       "| 4 | Summer | 20 | 1801.9239 | 27.06630 | 64.50000 | 1.870652 | 1646.076 | 19.305435 | 0.045652174 | 0.78804348 | 0.00000000 |\n",
       "| 5 | Summer | 21 | 1754.0652 | 26.27826 | 67.42391 | 1.646739 | 1613.554 | 19.348913 | 0.000000000 | 0.46413043 | 0.00000000 |\n",
       "| 6 | Spring | 18 | 1689.3111 | 15.97222 | 49.98889 | 2.570000 | 1398.944 |  4.284444 | 0.572000000 | 0.09888889 | 0.00000000 |\n",
       "| 7 | Summer | 22 | 1567.8696 | 25.69891 | 69.30435 | 1.501087 | 1580.065 | 19.259783 | 0.000000000 | 0.15543478 | 0.00000000 |\n",
       "| 8 | Autumn | 17 | 1562.8765 | 17.27778 | 47.16049 | 2.095062 | 1670.420 |  5.027160 | 0.544567901 | 0.25925926 | 0.04814815 |\n",
       "| 9 | Summer | 17 | 1526.2935 | 30.07691 | 53.82609 | 2.440217 | 1637.239 | 18.835870 | 1.229565217 | 0.15760870 | 0.00000000 |\n",
       "| 10 | Autumn | 19 | 1515.5679 | 15.06346 | 55.46914 | 1.760494 | 1659.827 |  5.725926 | 0.014197531 | 0.03086420 | 0.04567901 |\n",
       "| 11 | Summer |  8 | 1418.5978 | 24.53587 | 69.67391 | 1.179348 | 1364.348 | 18.271739 | 0.691086957 | 0.22173913 | 0.00000000 |\n",
       "| 12 | Autumn |  8 | 1345.0370 | 10.55679 | 70.18519 | 1.204938 | 1379.432 |  5.065432 | 0.245308642 | 0.17654321 | 0.08395062 |\n",
       "| 13 | Autumn | 20 | 1321.7037 | 14.32469 | 57.46914 | 1.696296 | 1645.284 |  5.603704 | 0.000000000 | 0.01851852 | 0.04567901 |\n",
       "| 14 | Spring | 17 | 1307.9778 | 16.87889 | 47.34444 | 2.716667 | 1390.033 |  4.183333 | 1.069555556 | 0.09000000 | 0.00000000 |\n",
       "| 15 | Autumn | 16 | 1293.2099 | 18.08123 | 44.11111 | 2.091358 | 1642.864 |  4.629630 | 1.013950617 | 0.11728395 | 0.05432099 |\n",
       "| 16 | Autumn | 21 | 1253.8148 | 13.69012 | 59.19753 | 1.535802 | 1624.778 |  5.432099 | 0.000000000 | 0.24691358 | 0.04444444 |\n",
       "| 17 | Spring | 19 | 1247.7111 | 14.67667 | 54.56667 | 2.395556 | 1381.822 |  4.452222 | 0.163444444 | 0.08888889 | 0.00000000 |\n",
       "| 18 | Summer | 16 | 1174.1739 | 30.48804 | 51.77174 | 2.413043 | 1620.707 | 18.611957 | 1.649565217 | 0.06086957 | 0.00000000 |\n",
       "| 19 | Autumn | 15 | 1156.7037 | 18.34321 | 42.85185 | 2.193827 | 1656.235 |  4.386420 | 1.452098765 | 0.18518519 | 0.06419753 |\n",
       "| 20 | Summer | 23 | 1153.9022 | 25.23139 | 70.88043 | 1.355435 | 1502.467 | 19.191304 | 0.000000000 | 0.19021739 | 0.00000000 |\n",
       "| 21 | Autumn | 22 | 1130.2099 | 13.09012 | 61.09877 | 1.287654 | 1621.975 |  5.382716 | 0.000000000 | 0.02469136 | 0.04444444 |\n",
       "| 22 | Spring | 16 | 1101.4556 | 17.35889 | 45.34444 | 2.806667 | 1396.122 |  3.923333 | 1.485666667 | 0.04888889 | 0.00000000 |\n",
       "| 23 | Spring | 20 | 1060.5111 | 13.57533 | 58.03333 | 2.242222 | 1322.967 |  4.614444 | 0.008222222 | 0.20555556 | 0.00000000 |\n",
       "| 24 | Autumn | 14 | 1058.8272 | 18.15185 | 42.83951 | 2.111111 | 1637.568 |  4.183951 | 1.761481481 | 0.11111111 | 0.07777778 |\n",
       "| 25 | Spring |  8 | 1036.3778 | 10.30867 | 66.32222 | 1.306667 | 1139.100 |  3.730000 | 0.451777778 | 0.27222222 | 0.00000000 |\n",
       "| 26 | Spring | 21 | 1021.1222 | 12.83778 | 60.88889 | 1.890000 | 1268.100 |  4.678889 | 0.000000000 | 0.16111111 | 0.00000000 |\n",
       "| 27 | Summer | 15 | 1009.7174 | 30.49022 | 51.41304 | 2.264130 | 1582.543 | 18.422826 | 1.969130435 | 0.19891304 | 0.00000000 |\n",
       "| 28 | Autumn | 13 | 1002.6667 | 17.55802 | 45.62963 | 2.144444 | 1607.420 |  4.644444 | 1.862839506 | 0.07407407 | 0.09629630 |\n",
       "| 29 | Spring | 15 |  990.9778 | 17.51111 | 44.44444 | 2.744444 | 1383.400 |  3.778889 | 1.841000000 | 0.07555556 | 0.00000000 |\n",
       "| 30 | Autumn | 12 |  934.6420 | 16.73951 | 48.11111 | 1.808642 | 1581.815 |  4.806173 | 1.826296296 | 0.20740741 | 0.11358025 |\n",
       "| ⋮ | ⋮ | ⋮ | ⋮ | ⋮ | ⋮ | ⋮ | ⋮ | ⋮ | ⋮ | ⋮ | ⋮ |\n",
       "| 67 | Winter | 19 | 304.03333 | -1.5166667 | 48.00000 | 2.0788889 | 1499.711 | -11.834444 | 0.0003333333 | 0.00000000 | 0.1911111 |\n",
       "| 68 | Winter | 15 | 298.64444 |  1.1666667 | 35.65556 | 2.7222222 | 1541.322 | -13.292222 | 0.9603333333 | 0.08888889 | 0.1555556 |\n",
       "| 69 | Winter | 14 | 284.28889 |  0.8711111 | 36.01111 | 2.5455556 | 1509.700 | -13.505556 | 1.1486666667 | 0.00000000 | 0.1944444 |\n",
       "| 70 | Winter | 13 | 275.25556 |  0.2166667 | 37.05556 | 2.5155556 | 1489.122 | -13.623333 | 1.1954444444 | 0.00000000 | 0.2433333 |\n",
       "| 71 | Winter | 12 | 263.63333 | -0.5666667 | 39.50000 | 2.1933333 | 1440.500 | -13.474444 | 1.1133333333 | 0.12000000 | 0.2911111 |\n",
       "| 72 | Spring |  6 | 257.23333 |  9.2655556 | 70.65556 | 1.0722222 | 1078.056 |   4.241111 | 0.0074444444 | 0.31333333 | 0.0000000 |\n",
       "| 73 | Autumn |  3 | 256.55000 | 11.0987500 | 69.71250 | 0.9200000 | 1511.412 |   5.477500 | 0.0000000000 | 0.07750000 | 0.0387500 |\n",
       "| 74 | Winter |  9 | 254.60000 | -4.8022222 | 53.44444 | 1.6500000 | 1363.044 | -13.323333 | 0.2166666667 | 0.13888889 | 0.3533333 |\n",
       "| 75 | Spring |  2 | 252.96667 | 10.2686667 | 68.48889 | 1.2922222 | 1105.689 |   4.172222 | 0.0000000000 | 0.12555556 | 0.0000000 |\n",
       "| 76 | Summer |  5 | 245.93478 | 23.2630435 | 77.83696 | 0.9304348 | 1352.413 |  18.940217 | 0.0000000000 | 0.09565217 | 0.0000000 |\n",
       "| 77 | Winter | 20 | 243.23333 | -2.0222222 | 50.31111 | 1.9200000 | 1497.578 | -11.623333 | 0.0000000000 | 0.00000000 | 0.2022222 |\n",
       "| 78 | Winter | 21 | 240.50000 | -2.4366667 | 52.44444 | 1.9111111 | 1486.122 | -11.361111 | 0.0000000000 | 0.13777778 | 0.2033333 |\n",
       "| 79 | Winter | 11 | 228.32222 | -1.8433333 | 42.84444 | 2.0811111 | 1398.956 | -13.586667 | 0.8882222222 | 0.00000000 | 0.3300000 |\n",
       "| 80 | Winter | 22 | 225.13333 | -2.8233333 | 54.16667 | 1.8177778 | 1449.289 | -11.222222 | 0.0000000000 | 0.00000000 | 0.2022222 |\n",
       "| 81 | Summer |  4 | 223.81522 | 23.5313882 | 76.59783 | 1.0706522 | 1347.163 |  18.894565 | 0.0000000000 | 0.21739130 | 0.0000000 |\n",
       "| 82 | Winter |  7 | 209.56667 | -5.2488889 | 58.98889 | 1.4911111 | 1382.500 | -12.423333 | 0.0000000000 | 0.00000000 | 0.3311111 |\n",
       "| 83 | Winter | 10 | 186.40000 | -3.3144444 | 47.62222 | 1.8877778 | 1374.444 | -13.513333 | 0.5985555556 | 0.00000000 | 0.3533333 |\n",
       "| 84 | Winter | 23 | 173.43333 | -3.1733333 | 55.25556 | 1.7000000 | 1417.067 | -11.271111 | 0.0000000000 | 0.00000000 | 0.2033333 |\n",
       "| 85 | Autumn |  4 | 169.02500 | 10.8037500 | 70.80000 | 0.9862500 | 1484.412 |   5.378750 | 0.0000000000 | 0.03625000 | 0.0362500 |\n",
       "| 86 | Spring |  3 | 168.47778 |  9.9622222 | 69.15556 | 1.1922222 | 1069.011 |   4.341111 | 0.0000000000 | 0.26333333 | 0.0000000 |\n",
       "| 87 | Winter |  0 | 165.17778 | -3.6100000 | 55.91111 | 1.6544444 | 1401.689 | -11.535556 | 0.0000000000 | 0.01333333 | 0.2133333 |\n",
       "| 88 | Autumn |  5 | 163.41250 | 10.5075000 | 72.23750 | 0.8962500 | 1486.388 |   5.417500 | 0.0000000000 | 0.08750000 | 0.0350000 |\n",
       "| 89 | Winter |  1 | 159.05556 | -3.8911111 | 56.65556 | 1.5077778 | 1421.678 | -11.616667 | 0.0000000000 | 0.00000000 | 0.2633333 |\n",
       "| 90 | Winter |  2 | 117.78889 | -4.1744444 | 57.33333 | 1.4444444 | 1431.011 | -11.744444 | 0.0000000000 | 0.00000000 | 0.2744444 |\n",
       "| 91 | Spring |  5 | 116.17778 |  9.4533333 | 69.57778 | 1.1888889 | 1099.578 |   4.306667 | 0.0000000000 | 0.10000000 | 0.0000000 |\n",
       "| 92 | Spring |  4 | 108.22222 |  9.6944444 | 69.51111 | 1.2088889 | 1105.956 |   4.334444 | 0.0000000000 | 0.34888889 | 0.0000000 |\n",
       "| 93 | Winter |  6 |  92.82222 | -5.0311111 | 58.27778 | 1.5244444 | 1394.511 | -12.396667 | 0.0000000000 | 0.05000000 | 0.3144444 |\n",
       "| 94 | Winter |  3 |  77.81111 | -4.3633333 | 57.05556 | 1.4955556 | 1431.100 | -12.014444 | 0.0000000000 | 0.06777778 | 0.2766667 |\n",
       "| 95 | Winter |  5 |  51.22222 | -4.8033333 | 57.58889 | 1.5033333 | 1412.933 | -12.304444 | 0.0000000000 | 0.00000000 | 0.2866667 |\n",
       "| 96 | Winter |  4 |  50.47778 | -4.5644444 | 57.11111 | 1.5877778 | 1418.722 | -12.211111 | 0.0000000000 | 0.00000000 | 0.2777778 |\n",
       "\n"
      ],
      "text/plain": [
       "   SEASONS HOUR AVG_RENTED AVG_TEMP   AVG_HUMI AVG_WIND_SPEED AVG_VISIBILITY\n",
       "1  Summer  18   2135.1413  29.38791   56.46739 2.232609       1669.641      \n",
       "2  Autumn  18   1983.3333  16.03185   51.93827 1.776543       1671.000      \n",
       "3  Summer  19   1889.2500  28.27378   60.53261 2.038043       1683.370      \n",
       "4  Summer  20   1801.9239  27.06630   64.50000 1.870652       1646.076      \n",
       "5  Summer  21   1754.0652  26.27826   67.42391 1.646739       1613.554      \n",
       "6  Spring  18   1689.3111  15.97222   49.98889 2.570000       1398.944      \n",
       "7  Summer  22   1567.8696  25.69891   69.30435 1.501087       1580.065      \n",
       "8  Autumn  17   1562.8765  17.27778   47.16049 2.095062       1670.420      \n",
       "9  Summer  17   1526.2935  30.07691   53.82609 2.440217       1637.239      \n",
       "10 Autumn  19   1515.5679  15.06346   55.46914 1.760494       1659.827      \n",
       "11 Summer   8   1418.5978  24.53587   69.67391 1.179348       1364.348      \n",
       "12 Autumn   8   1345.0370  10.55679   70.18519 1.204938       1379.432      \n",
       "13 Autumn  20   1321.7037  14.32469   57.46914 1.696296       1645.284      \n",
       "14 Spring  17   1307.9778  16.87889   47.34444 2.716667       1390.033      \n",
       "15 Autumn  16   1293.2099  18.08123   44.11111 2.091358       1642.864      \n",
       "16 Autumn  21   1253.8148  13.69012   59.19753 1.535802       1624.778      \n",
       "17 Spring  19   1247.7111  14.67667   54.56667 2.395556       1381.822      \n",
       "18 Summer  16   1174.1739  30.48804   51.77174 2.413043       1620.707      \n",
       "19 Autumn  15   1156.7037  18.34321   42.85185 2.193827       1656.235      \n",
       "20 Summer  23   1153.9022  25.23139   70.88043 1.355435       1502.467      \n",
       "21 Autumn  22   1130.2099  13.09012   61.09877 1.287654       1621.975      \n",
       "22 Spring  16   1101.4556  17.35889   45.34444 2.806667       1396.122      \n",
       "23 Spring  20   1060.5111  13.57533   58.03333 2.242222       1322.967      \n",
       "24 Autumn  14   1058.8272  18.15185   42.83951 2.111111       1637.568      \n",
       "25 Spring   8   1036.3778  10.30867   66.32222 1.306667       1139.100      \n",
       "26 Spring  21   1021.1222  12.83778   60.88889 1.890000       1268.100      \n",
       "27 Summer  15   1009.7174  30.49022   51.41304 2.264130       1582.543      \n",
       "28 Autumn  13   1002.6667  17.55802   45.62963 2.144444       1607.420      \n",
       "29 Spring  15    990.9778  17.51111   44.44444 2.744444       1383.400      \n",
       "30 Autumn  12    934.6420  16.73951   48.11111 1.808642       1581.815      \n",
       "⋮  ⋮       ⋮    ⋮          ⋮          ⋮        ⋮              ⋮             \n",
       "67 Winter  19   304.03333  -1.5166667 48.00000 2.0788889      1499.711      \n",
       "68 Winter  15   298.64444   1.1666667 35.65556 2.7222222      1541.322      \n",
       "69 Winter  14   284.28889   0.8711111 36.01111 2.5455556      1509.700      \n",
       "70 Winter  13   275.25556   0.2166667 37.05556 2.5155556      1489.122      \n",
       "71 Winter  12   263.63333  -0.5666667 39.50000 2.1933333      1440.500      \n",
       "72 Spring   6   257.23333   9.2655556 70.65556 1.0722222      1078.056      \n",
       "73 Autumn   3   256.55000  11.0987500 69.71250 0.9200000      1511.412      \n",
       "74 Winter   9   254.60000  -4.8022222 53.44444 1.6500000      1363.044      \n",
       "75 Spring   2   252.96667  10.2686667 68.48889 1.2922222      1105.689      \n",
       "76 Summer   5   245.93478  23.2630435 77.83696 0.9304348      1352.413      \n",
       "77 Winter  20   243.23333  -2.0222222 50.31111 1.9200000      1497.578      \n",
       "78 Winter  21   240.50000  -2.4366667 52.44444 1.9111111      1486.122      \n",
       "79 Winter  11   228.32222  -1.8433333 42.84444 2.0811111      1398.956      \n",
       "80 Winter  22   225.13333  -2.8233333 54.16667 1.8177778      1449.289      \n",
       "81 Summer   4   223.81522  23.5313882 76.59783 1.0706522      1347.163      \n",
       "82 Winter   7   209.56667  -5.2488889 58.98889 1.4911111      1382.500      \n",
       "83 Winter  10   186.40000  -3.3144444 47.62222 1.8877778      1374.444      \n",
       "84 Winter  23   173.43333  -3.1733333 55.25556 1.7000000      1417.067      \n",
       "85 Autumn   4   169.02500  10.8037500 70.80000 0.9862500      1484.412      \n",
       "86 Spring   3   168.47778   9.9622222 69.15556 1.1922222      1069.011      \n",
       "87 Winter   0   165.17778  -3.6100000 55.91111 1.6544444      1401.689      \n",
       "88 Autumn   5   163.41250  10.5075000 72.23750 0.8962500      1486.388      \n",
       "89 Winter   1   159.05556  -3.8911111 56.65556 1.5077778      1421.678      \n",
       "90 Winter   2   117.78889  -4.1744444 57.33333 1.4444444      1431.011      \n",
       "91 Spring   5   116.17778   9.4533333 69.57778 1.1888889      1099.578      \n",
       "92 Spring   4   108.22222   9.6944444 69.51111 1.2088889      1105.956      \n",
       "93 Winter   6    92.82222  -5.0311111 58.27778 1.5244444      1394.511      \n",
       "94 Winter   3    77.81111  -4.3633333 57.05556 1.4955556      1431.100      \n",
       "95 Winter   5    51.22222  -4.8033333 57.58889 1.5033333      1412.933      \n",
       "96 Winter   4    50.47778  -4.5644444 57.11111 1.5877778      1418.722      \n",
       "   AVG_DEW_POINT_TEMPERATURE AVG_SOLAR_RADIATION AVG_RAINFALL AVG_SNOWFALL\n",
       "1  19.040217                 0.764239130         0.53369565   0.00000000  \n",
       "2   5.579012                 0.159012346         0.28395062   0.04814815  \n",
       "3  19.280435                 0.338043478         0.32608696   0.00000000  \n",
       "4  19.305435                 0.045652174         0.78804348   0.00000000  \n",
       "5  19.348913                 0.000000000         0.46413043   0.00000000  \n",
       "6   4.284444                 0.572000000         0.09888889   0.00000000  \n",
       "7  19.259783                 0.000000000         0.15543478   0.00000000  \n",
       "8   5.027160                 0.544567901         0.25925926   0.04814815  \n",
       "9  18.835870                 1.229565217         0.15760870   0.00000000  \n",
       "10  5.725926                 0.014197531         0.03086420   0.04567901  \n",
       "11 18.271739                 0.691086957         0.22173913   0.00000000  \n",
       "12  5.065432                 0.245308642         0.17654321   0.08395062  \n",
       "13  5.603704                 0.000000000         0.01851852   0.04567901  \n",
       "14  4.183333                 1.069555556         0.09000000   0.00000000  \n",
       "15  4.629630                 1.013950617         0.11728395   0.05432099  \n",
       "16  5.432099                 0.000000000         0.24691358   0.04444444  \n",
       "17  4.452222                 0.163444444         0.08888889   0.00000000  \n",
       "18 18.611957                 1.649565217         0.06086957   0.00000000  \n",
       "19  4.386420                 1.452098765         0.18518519   0.06419753  \n",
       "20 19.191304                 0.000000000         0.19021739   0.00000000  \n",
       "21  5.382716                 0.000000000         0.02469136   0.04444444  \n",
       "22  3.923333                 1.485666667         0.04888889   0.00000000  \n",
       "23  4.614444                 0.008222222         0.20555556   0.00000000  \n",
       "24  4.183951                 1.761481481         0.11111111   0.07777778  \n",
       "25  3.730000                 0.451777778         0.27222222   0.00000000  \n",
       "26  4.678889                 0.000000000         0.16111111   0.00000000  \n",
       "27 18.422826                 1.969130435         0.19891304   0.00000000  \n",
       "28  4.644444                 1.862839506         0.07407407   0.09629630  \n",
       "29  3.778889                 1.841000000         0.07555556   0.00000000  \n",
       "30  4.806173                 1.826296296         0.20740741   0.11358025  \n",
       "⋮  ⋮                         ⋮                   ⋮            ⋮           \n",
       "67 -11.834444                0.0003333333        0.00000000   0.1911111   \n",
       "68 -13.292222                0.9603333333        0.08888889   0.1555556   \n",
       "69 -13.505556                1.1486666667        0.00000000   0.1944444   \n",
       "70 -13.623333                1.1954444444        0.00000000   0.2433333   \n",
       "71 -13.474444                1.1133333333        0.12000000   0.2911111   \n",
       "72   4.241111                0.0074444444        0.31333333   0.0000000   \n",
       "73   5.477500                0.0000000000        0.07750000   0.0387500   \n",
       "74 -13.323333                0.2166666667        0.13888889   0.3533333   \n",
       "75   4.172222                0.0000000000        0.12555556   0.0000000   \n",
       "76  18.940217                0.0000000000        0.09565217   0.0000000   \n",
       "77 -11.623333                0.0000000000        0.00000000   0.2022222   \n",
       "78 -11.361111                0.0000000000        0.13777778   0.2033333   \n",
       "79 -13.586667                0.8882222222        0.00000000   0.3300000   \n",
       "80 -11.222222                0.0000000000        0.00000000   0.2022222   \n",
       "81  18.894565                0.0000000000        0.21739130   0.0000000   \n",
       "82 -12.423333                0.0000000000        0.00000000   0.3311111   \n",
       "83 -13.513333                0.5985555556        0.00000000   0.3533333   \n",
       "84 -11.271111                0.0000000000        0.00000000   0.2033333   \n",
       "85   5.378750                0.0000000000        0.03625000   0.0362500   \n",
       "86   4.341111                0.0000000000        0.26333333   0.0000000   \n",
       "87 -11.535556                0.0000000000        0.01333333   0.2133333   \n",
       "88   5.417500                0.0000000000        0.08750000   0.0350000   \n",
       "89 -11.616667                0.0000000000        0.00000000   0.2633333   \n",
       "90 -11.744444                0.0000000000        0.00000000   0.2744444   \n",
       "91   4.306667                0.0000000000        0.10000000   0.0000000   \n",
       "92   4.334444                0.0000000000        0.34888889   0.0000000   \n",
       "93 -12.396667                0.0000000000        0.05000000   0.3144444   \n",
       "94 -12.014444                0.0000000000        0.06777778   0.2766667   \n",
       "95 -12.304444                0.0000000000        0.00000000   0.2866667   \n",
       "96 -12.211111                0.0000000000        0.00000000   0.2777778   "
      ]
     },
     "metadata": {},
     "output_type": "display_data"
    }
   ],
   "source": [
    "# provide your solution here\n",
    "sql <- \"SELECT SEASONS, HOUR\n",
    "            ,AVG(RENTED_BIKE_COUNT) AS AVG_RENTED \n",
    "            ,AVG(TEMPERATURE) AS AVG_TEMP\n",
    "            ,AVG(HUMIDITY) AS AVG_HUMI\n",
    "            ,AVG(WIND_SPEED) AS AVG_WIND_SPEED\n",
    "            ,AVG(VISIBILITY) AS AVG_VISIBILITY\n",
    "            ,AVG(DEW_POINT_TEMPERATURE) AS AVG_DEW_POINT_TEMPERATURE\n",
    "            ,AVG(SOLAR_RADIATION) AS AVG_SOLAR_RADIATION\n",
    "            ,AVG(RAINFALL) AS AVG_RAINFALL\n",
    "            ,AVG(SNOWFALL) AS AVG_SNOWFALL\n",
    "        FROM SEOUL_BIKE_SHARING GROUP BY SEASONS, HOUR\n",
    "        ORDER BY AVG_RENTED DESC\"\n",
    "dbGetQuery(con, sql)"
   ]
  },
  {
   "cell_type": "markdown",
   "metadata": {},
   "source": [
    "## Task 10 - Total Bike Count and City Info for Seoul\n",
    "#### Use an implicit join across the WORLD_CITIES and the BIKE_SHARING_SYSTEMS tables to determine the total number of bikes avaialble in Seoul, plus the following city information about Seoul: CITY, COUNTRY, LAT, LON, POPULATION, in a single view.\n",
    "Notice that in this case, the CITY column will work for the WORLD_CITIES table, but in general you would have to use the CITY_ASCII column.\n"
   ]
  },
  {
   "cell_type": "markdown",
   "metadata": {},
   "source": [
    "### Solution 10\n"
   ]
  },
  {
   "cell_type": "code",
   "execution_count": 64,
   "metadata": {
    "tags": []
   },
   "outputs": [
    {
     "data": {
      "text/html": [
       "<table>\n",
       "<caption>A data.frame: 1 × 6</caption>\n",
       "<thead>\n",
       "\t<tr><th></th><th scope=col>CITY</th><th scope=col>COUNTRY</th><th scope=col>LAT</th><th scope=col>LNG</th><th scope=col>POPULATION</th><th scope=col>BICYCLES</th></tr>\n",
       "\t<tr><th></th><th scope=col>&lt;chr&gt;</th><th scope=col>&lt;chr&gt;</th><th scope=col>&lt;dbl&gt;</th><th scope=col>&lt;dbl&gt;</th><th scope=col>&lt;dbl&gt;</th><th scope=col>&lt;int&gt;</th></tr>\n",
       "</thead>\n",
       "<tbody>\n",
       "\t<tr><th scope=row>1</th><td>Seoul</td><td>South Korea</td><td>37.5833</td><td>127</td><td>21794000</td><td>20000</td></tr>\n",
       "</tbody>\n",
       "</table>\n"
      ],
      "text/latex": [
       "A data.frame: 1 × 6\n",
       "\\begin{tabular}{r|llllll}\n",
       "  & CITY & COUNTRY & LAT & LNG & POPULATION & BICYCLES\\\\\n",
       "  & <chr> & <chr> & <dbl> & <dbl> & <dbl> & <int>\\\\\n",
       "\\hline\n",
       "\t1 & Seoul & South Korea & 37.5833 & 127 & 21794000 & 20000\\\\\n",
       "\\end{tabular}\n"
      ],
      "text/markdown": [
       "\n",
       "A data.frame: 1 × 6\n",
       "\n",
       "| <!--/--> | CITY &lt;chr&gt; | COUNTRY &lt;chr&gt; | LAT &lt;dbl&gt; | LNG &lt;dbl&gt; | POPULATION &lt;dbl&gt; | BICYCLES &lt;int&gt; |\n",
       "|---|---|---|---|---|---|---|\n",
       "| 1 | Seoul | South Korea | 37.5833 | 127 | 21794000 | 20000 |\n",
       "\n"
      ],
      "text/plain": [
       "  CITY  COUNTRY     LAT     LNG POPULATION BICYCLES\n",
       "1 Seoul South Korea 37.5833 127 21794000   20000   "
      ]
     },
     "metadata": {},
     "output_type": "display_data"
    }
   ],
   "source": [
    "# provide your solution here\n",
    "sql <- \"SELECT \n",
    "            b.CITY, b.COUNTRY, LAT, LNG, POPULATION, BICYCLES\n",
    "        FROM WORLD_CITIES c\n",
    "        INNER JOIN BIKE_SHARING_SYSTEMS b\n",
    "        ON c.CITY = b.CITY\n",
    "        WHERE c.CITY='Seoul'\"\n",
    "dbGetQuery(con, sql)"
   ]
  },
  {
   "cell_type": "markdown",
   "metadata": {},
   "source": [
    "## Task 11 - Find all city names and coordinates with comparable bike scale to Seoul's bike sharing system\n",
    "#### Find all cities with total bike counts between 15000 and 20000. Return the city and country names, plus the coordinates (LAT, LNG), population, and number of bicycles for each city.\n",
    "Later we will ask you to visualize these similar cities on leaflet, with some weather data.\n"
   ]
  },
  {
   "cell_type": "markdown",
   "metadata": {},
   "source": [
    "### Solution 11\n"
   ]
  },
  {
   "cell_type": "code",
   "execution_count": 69,
   "metadata": {
    "tags": []
   },
   "outputs": [
    {
     "data": {
      "text/html": [
       "<table>\n",
       "<caption>A data.frame: 6 × 6</caption>\n",
       "<thead>\n",
       "\t<tr><th></th><th scope=col>CITY</th><th scope=col>COUNTRY</th><th scope=col>LAT</th><th scope=col>LNG</th><th scope=col>POPULATION</th><th scope=col>BICYCLES</th></tr>\n",
       "\t<tr><th></th><th scope=col>&lt;chr&gt;</th><th scope=col>&lt;chr&gt;</th><th scope=col>&lt;dbl&gt;</th><th scope=col>&lt;dbl&gt;</th><th scope=col>&lt;dbl&gt;</th><th scope=col>&lt;int&gt;</th></tr>\n",
       "</thead>\n",
       "<tbody>\n",
       "\t<tr><th scope=row>1</th><td>Beijing </td><td>China      </td><td>39.9050</td><td>116.3914</td><td>19433000</td><td>16000</td></tr>\n",
       "\t<tr><th scope=row>2</th><td>Ningbo  </td><td>China      </td><td>29.8750</td><td>121.5492</td><td> 7639000</td><td>15000</td></tr>\n",
       "\t<tr><th scope=row>3</th><td>Shanghai</td><td>China      </td><td>31.1667</td><td>121.4667</td><td>22120000</td><td>19165</td></tr>\n",
       "\t<tr><th scope=row>4</th><td>Weifang </td><td>China      </td><td>36.7167</td><td>119.1000</td><td> 9373000</td><td>20000</td></tr>\n",
       "\t<tr><th scope=row>5</th><td>Zhuzhou </td><td>China      </td><td>27.8407</td><td>113.1469</td><td> 3855609</td><td>20000</td></tr>\n",
       "\t<tr><th scope=row>6</th><td>Seoul   </td><td>South Korea</td><td>37.5833</td><td>127.0000</td><td>21794000</td><td>20000</td></tr>\n",
       "</tbody>\n",
       "</table>\n"
      ],
      "text/latex": [
       "A data.frame: 6 × 6\n",
       "\\begin{tabular}{r|llllll}\n",
       "  & CITY & COUNTRY & LAT & LNG & POPULATION & BICYCLES\\\\\n",
       "  & <chr> & <chr> & <dbl> & <dbl> & <dbl> & <int>\\\\\n",
       "\\hline\n",
       "\t1 & Beijing  & China       & 39.9050 & 116.3914 & 19433000 & 16000\\\\\n",
       "\t2 & Ningbo   & China       & 29.8750 & 121.5492 &  7639000 & 15000\\\\\n",
       "\t3 & Shanghai & China       & 31.1667 & 121.4667 & 22120000 & 19165\\\\\n",
       "\t4 & Weifang  & China       & 36.7167 & 119.1000 &  9373000 & 20000\\\\\n",
       "\t5 & Zhuzhou  & China       & 27.8407 & 113.1469 &  3855609 & 20000\\\\\n",
       "\t6 & Seoul    & South Korea & 37.5833 & 127.0000 & 21794000 & 20000\\\\\n",
       "\\end{tabular}\n"
      ],
      "text/markdown": [
       "\n",
       "A data.frame: 6 × 6\n",
       "\n",
       "| <!--/--> | CITY &lt;chr&gt; | COUNTRY &lt;chr&gt; | LAT &lt;dbl&gt; | LNG &lt;dbl&gt; | POPULATION &lt;dbl&gt; | BICYCLES &lt;int&gt; |\n",
       "|---|---|---|---|---|---|---|\n",
       "| 1 | Beijing  | China       | 39.9050 | 116.3914 | 19433000 | 16000 |\n",
       "| 2 | Ningbo   | China       | 29.8750 | 121.5492 |  7639000 | 15000 |\n",
       "| 3 | Shanghai | China       | 31.1667 | 121.4667 | 22120000 | 19165 |\n",
       "| 4 | Weifang  | China       | 36.7167 | 119.1000 |  9373000 | 20000 |\n",
       "| 5 | Zhuzhou  | China       | 27.8407 | 113.1469 |  3855609 | 20000 |\n",
       "| 6 | Seoul    | South Korea | 37.5833 | 127.0000 | 21794000 | 20000 |\n",
       "\n"
      ],
      "text/plain": [
       "  CITY     COUNTRY     LAT     LNG      POPULATION BICYCLES\n",
       "1 Beijing  China       39.9050 116.3914 19433000   16000   \n",
       "2 Ningbo   China       29.8750 121.5492  7639000   15000   \n",
       "3 Shanghai China       31.1667 121.4667 22120000   19165   \n",
       "4 Weifang  China       36.7167 119.1000  9373000   20000   \n",
       "5 Zhuzhou  China       27.8407 113.1469  3855609   20000   \n",
       "6 Seoul    South Korea 37.5833 127.0000 21794000   20000   "
      ]
     },
     "metadata": {},
     "output_type": "display_data"
    }
   ],
   "source": [
    "# provide your solution here\n",
    "sql <- \"SELECT \n",
    "             b.CITY\n",
    "            ,b.COUNTRY\n",
    "            ,LAT\n",
    "            ,LNG\n",
    "            ,POPULATION\n",
    "            ,BICYCLES\n",
    "        FROM BIKE_SHARING_SYSTEMS b\n",
    "        INNER JOIN WORLD_CITIES c\n",
    "        ON b.CITY = c.CITY\n",
    "        WHERE BICYCLES >= 15000 AND BICYCLES <= 20000\n",
    "        \"\n",
    "dbGetQuery(con, sql)"
   ]
  },
  {
   "cell_type": "code",
   "execution_count": null,
   "metadata": {},
   "outputs": [],
   "source": [
    "close(conn)"
   ]
  },
  {
   "cell_type": "markdown",
   "metadata": {},
   "source": [
    "## Author(s)\n",
    "\n",
    "<h4> Jeff Grossman </h4>\n",
    "<h4> Lakshmi Holla </h4>\n",
    "\n",
    "\n",
    "## Other Contributor(s)\n",
    "\n",
    "<h4>  Malika Singla </h4>\n",
    "\n",
    "<!--## Change log\n",
    "\n",
    "| Date (YYYY-MM-DD) | Version | Changed By | Change Description                 |\n",
    "| ----------------- | ------- | ---------- | ---------------------------------- |\n",
    "| 2022-03-03        | 1.0     |Lakshmi Holla  | Created lab using sqlite3          |-->\n",
    "\n",
    "## <h3 align=\"center\"> © IBM Corporation 2022. All rights reserved. <h3/>\n"
   ]
  },
  {
   "cell_type": "code",
   "execution_count": null,
   "metadata": {},
   "outputs": [],
   "source": []
  }
 ],
 "metadata": {
  "kernelspec": {
   "display_name": "R",
   "language": "R",
   "name": "conda-env-r-r"
  },
  "language_info": {
   "codemirror_mode": "r",
   "file_extension": ".r",
   "mimetype": "text/x-r-source",
   "name": "R",
   "pygments_lexer": "r",
   "version": "3.5.1"
  },
  "prev_pub_hash": "aec4d69ac9a601945e548ceeb943a3da719b90cac1cddd3d200b7d1ab9ce6d13"
 },
 "nbformat": 4,
 "nbformat_minor": 4
}
